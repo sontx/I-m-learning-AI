{
 "cells": [
  {
   "cell_type": "code",
   "execution_count": 2,
   "metadata": {},
   "outputs": [],
   "source": [
    "import os\n",
    "import cv2\n",
    "import pickle\n",
    "import numpy as np\n",
    "from sklearn.model_selection import train_test_split\n",
    "from sklearn.naive_bayes import GaussianNB\n",
    "from sklearn.metrics import accuracy_score\n",
    "import matplotlib.pyplot as plt"
   ]
  },
  {
   "cell_type": "code",
   "execution_count": 69,
   "metadata": {},
   "outputs": [
    {
     "name": "stdout",
     "output_type": "stream",
     "text": [
      "Load finished!!!\n"
     ]
    }
   ],
   "source": [
    "def load_data_from_directory(root):\n",
    "    directories = os.listdir(root)\n",
    "    data = {}\n",
    "    for directory in directories:\n",
    "        if directory not in  data:\n",
    "            data[directory] = []\n",
    "        image_path = os.path.join(root, directory)\n",
    "        images_name = os.listdir(image_path)\n",
    "        for image_name in images_name:\n",
    "            data[directory].append(os.path.join(image_path, image_name))\n",
    "    \n",
    "    return data\n",
    "\n",
    "def save_training_data(data, feature_path = \"features.pkl\", label_path=\"labels.pkl\"):\n",
    "    features = []\n",
    "    labels = []\n",
    "    for label, images_path in data.items():\n",
    "        for path in images_path:\n",
    "            image = cv2.imread(path)\n",
    "            image = np.reshape(image, (1, -1))\n",
    "            features.append(image)\n",
    "            labels.append(int(label))\n",
    "    with open(feature_path, \"wb\") as f:\n",
    "        pickle.dump(features, f)\n",
    "    \n",
    "    with open(label_path, \"wb\") as f:\n",
    "        pickle.dump(labels, f)\n",
    "    \n",
    "    print(\"Load finished!!!\")\n",
    "    \n",
    "root = \"data/\"\n",
    "data = load_data_from_directory(root)\n",
    "save_training_data(data)"
   ]
  },
  {
   "cell_type": "code",
   "execution_count": 70,
   "metadata": {},
   "outputs": [],
   "source": [
    "def load_training_data(feature_path = \"features.pkl\", label_path=\"labels.pkl\"):\n",
    "    with open(feature_path, \"rb\") as f:\n",
    "        features = pickle.load(f)\n",
    "    \n",
    "    with open(label_path, \"rb\") as f:\n",
    "        labels = pickle.load(f)\n",
    "    \n",
    "    return np.squeeze(np.asarray(features)), np.asarray(labels)\n",
    "\n",
    "features, labels = load_training_data()\n",
    "training_data = np.concatenate((features, labels.reshape(-1, 1)), axis=1)"
   ]
  },
  {
   "cell_type": "code",
   "execution_count": 71,
   "metadata": {},
   "outputs": [],
   "source": [
    "train, test = train_test_split(training_data, test_size=0.2, shuffle=True)\n",
    "X_train, y_train = train[:, :-1], train[:, -1]\n",
    "X_test, y_test = test[:, :-1], test[:, -1]"
   ]
  },
  {
   "cell_type": "code",
   "execution_count": 72,
   "metadata": {},
   "outputs": [],
   "source": [
    "from sklearn.naive_bayes import MultinomialNB\n",
    "classifier = MultinomialNB()\n",
    "classifier.fit(X_train, y_train)\n",
    "with open(\"model.pkl\", \"wb\") as f:\n",
    "    pickle.dump(classifier, f)"
   ]
  },
  {
   "cell_type": "code",
   "execution_count": 73,
   "metadata": {},
   "outputs": [],
   "source": [
    "with open(\"model.pkl\", \"rb\") as f:\n",
    "    classifier = pickle.load(f)"
   ]
  },
  {
   "cell_type": "code",
   "execution_count": 74,
   "metadata": {},
   "outputs": [
    {
     "name": "stdout",
     "output_type": "stream",
     "text": [
      "0.8258333333333333\n"
     ]
    }
   ],
   "source": [
    "prediction = classifier.predict(X_test)\n",
    "accuracy = accuracy_score(y_test, prediction)\n",
    "print(accuracy)"
   ]
  }
 ],
 "metadata": {
  "kernelspec": {
   "display_name": "Python 3",
   "language": "python",
   "name": "python3"
  },
  "language_info": {
   "codemirror_mode": {
    "name": "ipython",
    "version": 3
   },
   "file_extension": ".py",
   "mimetype": "text/x-python",
   "name": "python",
   "nbconvert_exporter": "python",
   "pygments_lexer": "ipython3",
   "version": "3.7.6"
  }
 },
 "nbformat": 4,
 "nbformat_minor": 2
}
