{
 "cells": [
  {
   "cell_type": "code",
   "execution_count": 178,
   "metadata": {},
   "outputs": [],
   "source": [
    "import numpy as np\n",
    "import pandas as pd\n",
    "from sklearn.preprocessing import LabelEncoder, OneHotEncoder\n",
    "from sklearn.impute import SimpleImputer"
   ]
  },
  {
   "cell_type": "code",
   "execution_count": 179,
   "metadata": {},
   "outputs": [],
   "source": [
    "df1 = pd.read_csv(\"train.csv\", na_values=\"?\")\n",
    "X_train = df.iloc[:, 0:-1].values\n",
    "y_train = df.iloc[:, -1].values\n",
    "\n",
    "\n",
    "df2 = pd.read_csv(\"test.csv\", na_values=\"?\")\n",
    "X_test = df.iloc[:, 0:-1].values\n",
    "y_test = df.iloc[:, -1].values"
   ]
  },
  {
   "cell_type": "code",
   "execution_count": 180,
   "metadata": {},
   "outputs": [],
   "source": [
    "def fillNull(X):\n",
    "    workclass_impute=SimpleImputer(np.nan, strategy=\"most_frequent\")\n",
    "    X[:,1]=workclass_impute.fit_transform(X[:,1].reshape(-1,1)).ravel()\n",
    "    \n",
    "    occupation_impute=SimpleImputer(np.nan, strategy=\"most_frequent\")\n",
    "    X[:,6]=occupation_impute.fit_transform(X[:,6].reshape(-1,1)).ravel()\n",
    "    \n",
    "    country_impute=SimpleImputer(np.nan, strategy=\"most_frequent\")\n",
    "    X[:,13]=country_impute.fit_transform(X[:,13].reshape(-1,1)).ravel()\n",
    "    \n",
    "    # check\n",
    "    new_df=pd.DataFrame.from_records(X)\n",
    "    new_df.isnull().sum()\n",
    "    \n",
    "fillNull(X_train)\n",
    "fillNull(X_test)"
   ]
  },
  {
   "cell_type": "code",
   "execution_count": 181,
   "metadata": {},
   "outputs": [],
   "source": [
    "# encode\n",
    "\n",
    "def encodeOneHot(A,index,deleteIndex=None,onehot=None):\n",
    "    if onehot is None:\n",
    "        onehot = OneHotEncoder(handle_unknown = 'ignore')\n",
    "        temp=onehot.fit_transform(A[:,index].reshape(-1,1)).toarray()\n",
    "    else:\n",
    "        temp=onehot.transform(A[:,index].reshape(-1,1)).toarray()\n",
    "    if deleteIndex is None:\n",
    "        deleteIndex = np.unique(A[:,index]).shape[0]\n",
    "    A=np.insert(A, [index], temp, axis=1)\n",
    "    A=np.delete(A, index+deleteIndex, axis=1)\n",
    "    return A,deleteIndex,onehot\n",
    "\n",
    "# workclass\n",
    "XX_train,d,onehot=encodeOneHot(X_train,1)\n",
    "XX_test,a,b=encodeOneHot(X_test,1,d,onehot)\n",
    "# education\n",
    "education_label_encoder=LabelEncoder()\n",
    "XX_train[:,2+d]=education_label_encoder.fit_transform(XX_train[:,2+d])\n",
    "education_label_encoder1=LabelEncoder()\n",
    "XX_test[:,2+d]=education_label_encoder1.fit_transform(XX_test[:,2+d])\n",
    "# marital\n",
    "XX_train,temp,onehot=encodeOneHot(XX_train,4+d)\n",
    "XX_test,a,b=encodeOneHot(XX_test,4+d,temp,onehot)\n",
    "d=d+temp\n",
    "# occupation\n",
    "XX_train,temp,onehot=encodeOneHot(XX_train,4+d)\n",
    "XX_test,a,b=encodeOneHot(XX_test,4+d,temp,onehot)\n",
    "d=d+temp\n",
    "# relationship\n",
    "XX_train,temp,onehot=encodeOneHot(XX_train,4+d)\n",
    "XX_test,a,b=encodeOneHot(XX_test,4+d,temp,onehot)\n",
    "d=d+temp\n",
    "# race\n",
    "XX_train,temp,onehot=encodeOneHot(XX_train,4+d)\n",
    "XX_test,a,b=encodeOneHot(XX_test,4+d,temp,onehot)\n",
    "d=d+temp\n",
    "# sex\n",
    "XX_train,temp,onehot=encodeOneHot(XX_train,4+d)\n",
    "XX_test,a,b=encodeOneHot(XX_test,4+d,temp,onehot)\n",
    "d=d+temp\n",
    "# native.country\n",
    "XX_train,temp,onehot=encodeOneHot(XX_train,7+d)\n",
    "XX_test,a,b=encodeOneHot(XX_test,7+d,temp,onehot)\n",
    "d=d+temp\n",
    "\n",
    "# income\n",
    "income_label_encoder=LabelEncoder()\n",
    "yy_train=income_label_encoder.fit_transform(y_train)\n",
    "income_label_encoder=LabelEncoder()\n",
    "yy_test=income_label_encoder.fit_transform(y_test)"
   ]
  },
  {
   "cell_type": "code",
   "execution_count": 182,
   "metadata": {},
   "outputs": [
    {
     "name": "stdout",
     "output_type": "stream",
     "text": [
      "(1, 90)\n",
      "(1, 90)\n"
     ]
    }
   ],
   "source": [
    "print(XX_train[0:1].shape)\n",
    "print(XX_test[0:1].shape)"
   ]
  },
  {
   "cell_type": "code",
   "execution_count": 187,
   "metadata": {},
   "outputs": [
    {
     "name": "stdout",
     "output_type": "stream",
     "text": [
      "Accuracy score: 0.8018603018603019\n"
     ]
    }
   ],
   "source": [
    "from sklearn.naive_bayes import GaussianNB,MultinomialNB\n",
    "from sklearn.metrics import accuracy_score\n",
    "clf = GaussianNB(var_smoothing=1e-05)\n",
    "clf.fit(XX_train, yy_train)\n",
    "prediction = clf.predict(XX_test)\n",
    "print(\"Accuracy score:\", accuracy_score(yy_test, prediction))"
   ]
  },
  {
   "cell_type": "code",
   "execution_count": null,
   "metadata": {},
   "outputs": [],
   "source": []
  }
 ],
 "metadata": {
  "kernelspec": {
   "display_name": "Python 3",
   "language": "python",
   "name": "python3"
  },
  "language_info": {
   "codemirror_mode": {
    "name": "ipython",
    "version": 3
   },
   "file_extension": ".py",
   "mimetype": "text/x-python",
   "name": "python",
   "nbconvert_exporter": "python",
   "pygments_lexer": "ipython3",
   "version": "3.7.6"
  }
 },
 "nbformat": 4,
 "nbformat_minor": 4
}
