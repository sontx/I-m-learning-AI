{
 "cells": [
  {
   "cell_type": "markdown",
   "metadata": {},
   "source": [
    "## 1. Giới thiệu"
   ]
  },
  {
   "cell_type": "markdown",
   "metadata": {},
   "source": [
    "Naive Bayes là thuật toán học giám sát, cụ thể ở đây là classification. Đây là thuật toán dựa trên định lý Bayes về lý thuyết xác suất để đưa ra các dự đoán cũng như phân loại dữ liệu đã được quan sát. <br/>\n",
    "Naive Bayes thường được sử dụng nhiều trong các bài toán phân loại text"
   ]
  },
  {
   "cell_type": "markdown",
   "metadata": {},
   "source": [
    "## 2. Xác suất có điều kiện"
   ]
  },
  {
   "cell_type": "markdown",
   "metadata": {},
   "source": [
    "Gọi A, B là 2 biến cố của biễn ngẫu nhiên X <br />\n",
    "Nếu A, B là 2 sự kiện độc lập, ta có xác suất để A và B xảy ra đồng thời là: <br />\n",
    "<center>$P(AB)=P(A)P(B)$</center><br /> \n",
    "$P(A)$ là xác suất A xảy ra <br />\n",
    "$P(B)$ là xác suất B xảy ra"
   ]
  },
  {
   "cell_type": "markdown",
   "metadata": {},
   "source": [
    "Nếu A, B là 2 biến cố liên quan với nhau, với $P(B) > 0$, ta có xác suất của A khi biết B xảy ra được xác định như sau: <br />\n",
    "<center>$P(A|B)=\\frac{P(AB)}{P(B)}$</center>"
   ]
  },
  {
   "cell_type": "markdown",
   "metadata": {},
   "source": [
    "Khi đó $P(AB)=P(A|B)P(B)$"
   ]
  },
  {
   "cell_type": "markdown",
   "metadata": {},
   "source": [
    "Khi A và B độc lập lập có $P(A|B)=P(A)$"
   ]
  },
  {
   "cell_type": "markdown",
   "metadata": {},
   "source": [
    "## 3. Định lý Bayes"
   ]
  },
  {
   "cell_type": "markdown",
   "metadata": {},
   "source": [
    "Từ công thức trên ta có: $P(AB)=P(A|B)P(B)=P(B|A)P(A)$ <br />\n",
    "Vậy: <center>$P(A|B)=\\frac{P(B|A)P(A)}{P(B)}$</center>"
   ]
  },
  {
   "cell_type": "markdown",
   "metadata": {},
   "source": [
    "## 4. Thuật toán Naive Bayes"
   ]
  },
  {
   "cell_type": "markdown",
   "metadata": {},
   "source": [
    "Giả sử dữ liệu bài toán classification có 3 class 1, 2, 3. Giả sử có 1 observation x. Xác định điểm x này thuộc class nào. Để xác định x thuộc class nào. Ta tính xác suất x là class 1, 2, 3 khi biết đầu vào là x. Ta có các xác suất sau: $P(y=1|x), P(y=2|x), P(y=3|x)$. x sẽ thuộc vào class có xác suất lớn nhất"
   ]
  },
  {
   "cell_type": "markdown",
   "metadata": {},
   "source": [
    "Vì so sánh $P(y=1|x), P(y=2|x), P(y=3|x)$. Mà các xác suất trên đều có mẫu số là $P(x)$ nên ta loại bỏ $P(x)$"
   ]
  },
  {
   "cell_type": "markdown",
   "metadata": {},
   "source": [
    "<h3><b>Tính $P(y=1)$</b></h3>"
   ]
  },
  {
   "cell_type": "markdown",
   "metadata": {},
   "source": [
    "Gọi n là số lượng phần tử có y = 1. N là tổng số lượng phần tử trong dữ liệu. Khi đó $P(y = 1)=\\frac{n}{N}$"
   ]
  },
  {
   "cell_type": "markdown",
   "metadata": {},
   "source": [
    "Tính $P(x|y=1)$"
   ]
  },
  {
   "cell_type": "markdown",
   "metadata": {},
   "source": [
    "x là observation có dạng: $x = (x_1, x_2..., x_n)$"
   ]
  },
  {
   "cell_type": "markdown",
   "metadata": {},
   "source": [
    "Giả sử các thành phần $(x_1, x_2...,x_n)$ là độc lập với nhau. Trong thực tế giả sử trên không tồn tại. Vì dữ liệu không hoàn toàn là độc\n",
    "lập. Tuy nhiên giả thuyết này vẫn mang lại kết quả tốt trong nhiều trường hợp. Vì vậy nó vẫn được chấp nhận. Naive(ngầy thơ) \n",
    "xuất hiện từ giả thuyết này"
   ]
  },
  {
   "cell_type": "markdown",
   "metadata": {},
   "source": [
    "<h3><b>Tính $\\prod_{i=1}^{n}P(x_i|y=1)$</b></h3>"
   ]
  },
  {
   "cell_type": "markdown",
   "metadata": {},
   "source": [
    "<h4>Gaussian</h4>"
   ]
  },
  {
   "cell_type": "markdown",
   "metadata": {},
   "source": [
    "Mô hình này được sử dụng chủ yếu trong dữ liệu mà các thành phần là liên tục"
   ]
  },
  {
   "cell_type": "markdown",
   "metadata": {},
   "source": [
    "Công thức:"
   ]
  },
  {
   "cell_type": "markdown",
   "metadata": {},
   "source": [
    "$P(x_i|y=1)=\\frac{1}{\\sqrt{2\\pi\\sigma_{1i}^2}}exp(-\\frac{(x_i-\\mu_{1i})^2}{2\\sigma_{1i}^2})$"
   ]
  },
  {
   "cell_type": "markdown",
   "metadata": {},
   "source": [
    "Với: $\\sigma_{1i}^2$ là phương sai của feature thứ i của class 1 <br />\n",
    "$\\mu_{1i}$ là kỳ vọng của feature thứ i của class 1\n"
   ]
  },
  {
   "cell_type": "markdown",
   "metadata": {},
   "source": [
    "<h4>Multinomial</h4>"
   ]
  },
  {
   "cell_type": "markdown",
   "metadata": {},
   "source": [
    "Mô hình này chủ yếu được sử dụng trong các bài toán phân loại văn bản mà các feature là các số tự nhiên thể hiện số lần từ đó xuất hiện trong văn bản"
   ]
  },
  {
   "cell_type": "markdown",
   "metadata": {},
   "source": [
    "$P(x_i, y=1)=\\frac{N_{y=1 i}}{N_{c}}$"
   ]
  },
  {
   "cell_type": "markdown",
   "metadata": {},
   "source": [
    "Với $N_{ci}$ là tổng số lần từ thứ $x_i$ xuất hiện trong văn bản <br />\n",
    "$N_{c=1}$ là tổng số từ trong văn bản của class c"
   ]
  },
  {
   "cell_type": "markdown",
   "metadata": {},
   "source": [
    "Với công thức trên có 1 hạn chế là từ $x_{ci}$ không xuất hiện trong văn bản, ta có $N_{ci}$=0. Điều này làm cho $P(x_i|y)$ = 0 "
   ]
  },
  {
   "cell_type": "markdown",
   "metadata": {},
   "source": [
    "Vì vậy xác suất có điều kiện sẽ bằng 0"
   ]
  },
  {
   "cell_type": "markdown",
   "metadata": {},
   "source": [
    "Để khắc phục vấn đề này. Người ta sử dụng một kĩ thuật gọi là Laplace Smoothing bằng cách công thêm cả tử và mẫu để giá trị luôn khác 0"
   ]
  },
  {
   "cell_type": "markdown",
   "metadata": {},
   "source": [
    "$P(x_i, y=1)=\\frac{N_{ci} + \\alpha}{N_{c=1} + d\\alpha}$"
   ]
  },
  {
   "cell_type": "markdown",
   "metadata": {},
   "source": [
    "Với $\\alpha$ là số dương bằng 1"
   ]
  },
  {
   "cell_type": "markdown",
   "metadata": {},
   "source": [
    "$d\\alpha$ được cộng vào mẫu để đảm bảo tổng xác suất bằng 1"
   ]
  },
  {
   "cell_type": "markdown",
   "metadata": {},
   "source": [
    "### Code"
   ]
  },
  {
   "cell_type": "markdown",
   "metadata": {},
   "source": [
    "#### Import packages"
   ]
  },
  {
   "cell_type": "code",
   "execution_count": 2,
   "metadata": {},
   "outputs": [],
   "source": [
    "import numpy as np\n",
    "import pandas as pd\n",
    "from sklearn.preprocessing import LabelEncoder, OneHotEncoder\n",
    "from sklearn.model_selection import train_test_split\n",
    "import operator"
   ]
  },
  {
   "cell_type": "markdown",
   "metadata": {},
   "source": [
    "#### Đọc dữ liệu"
   ]
  },
  {
   "cell_type": "code",
   "execution_count": 3,
   "metadata": {},
   "outputs": [
    {
     "name": "stdout",
     "output_type": "stream",
     "text": [
      "   Id  SepalLengthCm  SepalWidthCm  PetalLengthCm  PetalWidthCm      Species\n",
      "0   1            5.1           3.5            1.4           0.2  Iris-setosa\n",
      "1   2            4.9           3.0            1.4           0.2  Iris-setosa\n",
      "2   3            4.7           3.2            1.3           0.2  Iris-setosa\n",
      "3   4            4.6           3.1            1.5           0.2  Iris-setosa\n",
      "4   5            5.0           3.6            1.4           0.2  Iris-setosa\n"
     ]
    }
   ],
   "source": [
    "df = pd.read_csv(\"Iris.csv\")\n",
    "print(df.head(5))\n",
    "X = df.iloc[:, 1:-1].values\n",
    "y = df.iloc[:, -1].values"
   ]
  },
  {
   "cell_type": "markdown",
   "metadata": {},
   "source": [
    "#### Mã hóa label"
   ]
  },
  {
   "cell_type": "code",
   "execution_count": 76,
   "metadata": {},
   "outputs": [],
   "source": [
    "encoder = LabelEncoder()\n",
    "y = encoder.fit_transform(y)"
   ]
  },
  {
   "cell_type": "markdown",
   "metadata": {},
   "source": [
    "#### Chia dữ liệu train/test\n"
   ]
  },
  {
   "cell_type": "code",
   "execution_count": 77,
   "metadata": {},
   "outputs": [],
   "source": [
    "X_train, X_test, y_train, y_test = train_test_split(X, y, test_size=0.1)"
   ]
  },
  {
   "cell_type": "markdown",
   "metadata": {},
   "source": [
    "#### Naive bayes"
   ]
  },
  {
   "cell_type": "markdown",
   "metadata": {},
   "source": [
    "#### Tính p(y=c). Với c = 0, 1, 2"
   ]
  },
  {
   "cell_type": "code",
   "execution_count": 78,
   "metadata": {
    "scrolled": false
   },
   "outputs": [],
   "source": [
    "def seperate_classes(X, y):\n",
    "    unique_classes = np.unique(y)\n",
    "    seperated_classes = {unique_class:[] for unique_class in unique_classes}\n",
    "    for unique_class in unique_classes:\n",
    "        seperated_classes[unique_class].append(X[np.where(y==unique_class)[0]])\n",
    "    return seperated_classes\n",
    "\n",
    "def calculate_label_probs(seperated_classes):\n",
    "    n_samples = sum(len(value[0]) for value in seperated_classes.values())\n",
    "    label_probs = {seperated_class: len(seperated_classes[seperated_class][0])/float(n_samples) for seperated_class in seperated_classes}\n",
    "    return label_probs"
   ]
  },
  {
   "cell_type": "markdown",
   "metadata": {},
   "source": [
    "#### Tính $P(x_i|y=c)$. Với c = 0, 1, 2"
   ]
  },
  {
   "cell_type": "markdown",
   "metadata": {},
   "source": [
    "##### Gaussian"
   ]
  },
  {
   "cell_type": "code",
   "execution_count": 79,
   "metadata": {},
   "outputs": [],
   "source": [
    "# Tính cho feature thứ i\n",
    "def gaussian(xi, mean_i, std_i):\n",
    "    return np.exp(-np.power(xi - mean_i, 2.) / (2 * np.power(std_i, 2.)))"
   ]
  },
  {
   "cell_type": "markdown",
   "metadata": {},
   "source": [
    "#### Học"
   ]
  },
  {
   "cell_type": "code",
   "execution_count": 80,
   "metadata": {},
   "outputs": [],
   "source": [
    "global std, std, label_probs\n",
    "def fit(X_train, y_train):\n",
    "    global std\n",
    "    std = {}\n",
    "    global mean\n",
    "    mean = {}\n",
    "    global label_probs\n",
    "    label_probs = {}\n",
    "    seperated_classes = seperate_classes(X_train, y_train)\n",
    "    label_probs = calculate_label_probs(seperated_classes)\n",
    "    for seperated_class in seperated_classes:\n",
    "        std[seperated_class] = np.std(seperated_classes[seperated_class], axis=1).flatten()\n",
    "        mean[seperated_class] = np.mean(seperated_classes[seperated_class], axis=1).flatten()"
   ]
  },
  {
   "cell_type": "markdown",
   "metadata": {},
   "source": [
    "##### Dự đoán"
   ]
  },
  {
   "cell_type": "markdown",
   "metadata": {},
   "source": [
    "Giả sử tính $P(y=1|x)$. Áp dụng định lý Bayes ta có: $P(y=1|x)=\\frac{P(x|y=1)p(y=1)}{P(x)}$"
   ]
  },
  {
   "cell_type": "markdown",
   "metadata": {},
   "source": [
    "Khi đó $P(x|y=1)=P(x_1|y=1)P(x_2|y=1)...P(x_n|y=1)=\\prod_{i=1}^{n}P(x_i|y=1)$"
   ]
  },
  {
   "cell_type": "code",
   "execution_count": 81,
   "metadata": {},
   "outputs": [
    {
     "data": {
      "text/plain": [
       "[1, 2, 2, 2, 1, 2, 0, 0, 1, 0, 0, 1, 2, 1, 2]"
      ]
     },
     "execution_count": 81,
     "metadata": {},
     "output_type": "execute_result"
    }
   ],
   "source": [
    "def predict(X_test):\n",
    "    global std\n",
    "    global mean\n",
    "    global label_probs\n",
    "    assert std or mean or label_probs, \"Fit before predicting\"\n",
    "    result = []\n",
    "    for x_row in X_test:\n",
    "        conditional_probs = []\n",
    "        for label in label_probs:\n",
    "            mul = 1\n",
    "            for index, feature in enumerate(x_row):\n",
    "                gauss = gaussian(feature, mean[label][index], std[label][index])\n",
    "                mul = mul * gauss\n",
    "            conditional_prob = label_probs[label]*mul\n",
    "            conditional_probs.append(conditional_prob)\n",
    "        result.append(np.argmax(conditional_probs))\n",
    "    return result\n",
    "\n",
    "predict(X_test)"
   ]
  },
  {
   "cell_type": "markdown",
   "metadata": {},
   "source": [
    "##### Test"
   ]
  },
  {
   "cell_type": "code",
   "execution_count": 87,
   "metadata": {},
   "outputs": [
    {
     "name": "stdout",
     "output_type": "stream",
     "text": [
      "Accuracy score: 1.0\n",
      "Accuracy score: 0.9333333333333333\n"
     ]
    }
   ],
   "source": [
    "from sklearn.metrics import accuracy_score\n",
    "\n",
    "fit(X_train, y_train)\n",
    "prediction = predict(X_test)\n",
    "print(\"Accuracy score:\", accuracy_score(y_test, prediction))\n",
    "\n",
    "\n",
    "\n",
    "from sklearn.naive_bayes import BernoulliNB\n",
    "clf = MultinomialNB()\n",
    "clf.fit(X_train, y_train)\n",
    "prediction = clf.predict(X_test)\n",
    "print(\"Accuracy score:\", accuracy_score(y_test, prediction))"
   ]
  },
  {
   "cell_type": "code",
   "execution_count": 91,
   "metadata": {},
   "outputs": [
    {
     "data": {
      "text/html": [
       "<div>\n",
       "<style scoped>\n",
       "    .dataframe tbody tr th:only-of-type {\n",
       "        vertical-align: middle;\n",
       "    }\n",
       "\n",
       "    .dataframe tbody tr th {\n",
       "        vertical-align: top;\n",
       "    }\n",
       "\n",
       "    .dataframe thead th {\n",
       "        text-align: right;\n",
       "    }\n",
       "</style>\n",
       "<table border=\"1\" class=\"dataframe\">\n",
       "  <thead>\n",
       "    <tr style=\"text-align: right;\">\n",
       "      <th></th>\n",
       "      <th>0</th>\n",
       "    </tr>\n",
       "  </thead>\n",
       "  <tbody>\n",
       "    <tr>\n",
       "      <th>0</th>\n",
       "      <td>3</td>\n",
       "    </tr>\n",
       "    <tr>\n",
       "      <th>1</th>\n",
       "      <td>1</td>\n",
       "    </tr>\n",
       "    <tr>\n",
       "      <th>2</th>\n",
       "      <td>1</td>\n",
       "    </tr>\n",
       "    <tr>\n",
       "      <th>3</th>\n",
       "      <td>1</td>\n",
       "    </tr>\n",
       "    <tr>\n",
       "      <th>4</th>\n",
       "      <td>3</td>\n",
       "    </tr>\n",
       "    <tr>\n",
       "      <th>5</th>\n",
       "      <td>3</td>\n",
       "    </tr>\n",
       "  </tbody>\n",
       "</table>\n",
       "</div>"
      ],
      "text/plain": [
       "   0\n",
       "0  3\n",
       "1  1\n",
       "2  1\n",
       "3  1\n",
       "4  3\n",
       "5  3"
      ]
     },
     "execution_count": 91,
     "metadata": {},
     "output_type": "execute_result"
    }
   ],
   "source": [
    "from category_encoders import CountEncoder\n",
    "\n",
    "dataset = np.array([\"DN\", \"QT\", \"H\", \"QN\", \"DN\", \"DN\"])\n",
    "encoder = CountEncoder()\n",
    "encoder.fit_transform(dataset)\n",
    "\n",
    "# label-encoder\n",
    "# one-hot\n",
    "# count"
   ]
  },
  {
   "cell_type": "code",
   "execution_count": 93,
   "metadata": {},
   "outputs": [],
   "source": [
    "df = pd.read_csv(r\"D:\\Working\\Tài liệu Giảng dạy\\Tài Liệu Bài Giảng\\Buổi 7. Bayes\\adult.csv\")\n",
    "\n",
    "X_train, X_test = train_test_split(df, test_size=0.3, random_state=42, shuffle=True)\n",
    "\n",
    "X_train.to_csv(\"train.csv\", index=False)\n",
    "X_test.to_csv(\"test.csv\", index=False)"
   ]
  }
 ],
 "metadata": {
  "kernelspec": {
   "display_name": "Python 3",
   "language": "python",
   "name": "python3"
  },
  "language_info": {
   "codemirror_mode": {
    "name": "ipython",
    "version": 3
   },
   "file_extension": ".py",
   "mimetype": "text/x-python",
   "name": "python",
   "nbconvert_exporter": "python",
   "pygments_lexer": "ipython3",
   "version": "3.7.6"
  }
 },
 "nbformat": 4,
 "nbformat_minor": 2
}
