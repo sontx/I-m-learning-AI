{
 "cells": [
  {
   "cell_type": "code",
   "execution_count": 4,
   "metadata": {},
   "outputs": [],
   "source": [
    "import numpy as np\n",
    "import pandas as pd\n",
    "from sklearn.preprocessing import LabelEncoder\n",
    "from sklearn.impute import SimpleImputer"
   ]
  },
  {
   "cell_type": "code",
   "execution_count": 16,
   "metadata": {},
   "outputs": [],
   "source": [
    "def read_csv(name):\n",
    "    df = pd.read_csv(name)\n",
    "    X = df.iloc[:, 0:-1].values\n",
    "    y = df.iloc[:, -1].values\n",
    "    \n",
    "    # fill null\n",
    "    BloodPressure_impute=SimpleImputer(np.nan, strategy=\"mean\")\n",
    "    X[:,2]=BloodPressure_impute.fit_transform(X[:,2].reshape(-1,1)).ravel()\n",
    "    SkinThickness_impute=SimpleImputer(np.nan, strategy=\"mean\")\n",
    "    X[:,3]=SkinThickness_impute.fit_transform(X[:,3].reshape(-1,1)).ravel()\n",
    "    Insulin_impute=SimpleImputer(np.nan, strategy=\"mean\")\n",
    "    X[:,4]=Insulin_impute.fit_transform(X[:,4].reshape(-1,1)).ravel()\n",
    "    BMI_impute=SimpleImputer(np.nan, strategy=\"mean\")\n",
    "    X[:,5]=BMI_impute.fit_transform(X[:,5].reshape(-1,1)).ravel()\n",
    "    DiabetesPedigreeFunction_impute=SimpleImputer(np.nan, strategy=\"mean\")\n",
    "    X[:,6]=DiabetesPedigreeFunction_impute.fit_transform(X[:,6].reshape(-1,1)).ravel()\n",
    "    return X, y"
   ]
  },
  {
   "cell_type": "code",
   "execution_count": 17,
   "metadata": {},
   "outputs": [],
   "source": [
    "X_train,y_train=read_csv(\"train.csv\")\n",
    "X_test,y_test=read_csv(\"test.csv\")"
   ]
  },
  {
   "cell_type": "code",
   "execution_count": 24,
   "metadata": {},
   "outputs": [
    {
     "name": "stderr",
     "output_type": "stream",
     "text": [
      "C:\\Users\\sontx\\anaconda3\\lib\\site-packages\\sklearn\\linear_model\\_logistic.py:940: ConvergenceWarning: lbfgs failed to converge (status=1):\n",
      "STOP: TOTAL NO. of ITERATIONS REACHED LIMIT.\n",
      "\n",
      "Increase the number of iterations (max_iter) or scale the data as shown in:\n",
      "    https://scikit-learn.org/stable/modules/preprocessing.html\n",
      "Please also refer to the documentation for alternative solver options:\n",
      "    https://scikit-learn.org/stable/modules/linear_model.html#logistic-regression\n",
      "  extra_warning_msg=_LOGISTIC_SOLVER_CONVERGENCE_MSG)\n"
     ]
    },
    {
     "data": {
      "text/plain": [
       "0.7467532467532467"
      ]
     },
     "execution_count": 24,
     "metadata": {},
     "output_type": "execute_result"
    }
   ],
   "source": [
    "from sklearn.linear_model import LogisticRegression\n",
    "\n",
    "clf = LogisticRegression().fit(X_train, y_train)\n",
    "clf.predict(X_test)\n",
    "clf.score(X_test, y_test)"
   ]
  },
  {
   "cell_type": "code",
   "execution_count": null,
   "metadata": {},
   "outputs": [],
   "source": []
  }
 ],
 "metadata": {
  "kernelspec": {
   "display_name": "Python 3",
   "language": "python",
   "name": "python3"
  },
  "language_info": {
   "codemirror_mode": {
    "name": "ipython",
    "version": 3
   },
   "file_extension": ".py",
   "mimetype": "text/x-python",
   "name": "python",
   "nbconvert_exporter": "python",
   "pygments_lexer": "ipython3",
   "version": "3.7.6"
  }
 },
 "nbformat": 4,
 "nbformat_minor": 4
}
