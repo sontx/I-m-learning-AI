{
 "cells": [
  {
   "cell_type": "code",
   "execution_count": 25,
   "metadata": {},
   "outputs": [],
   "source": [
    "import numpy as np\n",
    "import pandas as pd\n",
    "from sklearn.preprocessing import LabelEncoder\n",
    "from sklearn.impute import SimpleImputer"
   ]
  },
  {
   "cell_type": "code",
   "execution_count": 26,
   "metadata": {},
   "outputs": [],
   "source": [
    "def read_csv(name1):\n",
    "    df = pd.read_csv(\"train.csv\")\n",
    "    X = df.iloc[:, 1:].values\n",
    "    y = df.iloc[:, 0].values\n",
    "    # tự nhận thấy name ếu liên quan nên bố sẽ remove name đi :))\n",
    "    X=np.delete(X, 1, axis=1)\n",
    "    \n",
    "    # fill null\n",
    "    age_impute=SimpleImputer(np.nan, strategy=\"mean\")\n",
    "    X[:,2]=age_impute.fit_transform(X[:,2].reshape(-1,1)).ravel()\n",
    "    \n",
    "    cabin_impute=SimpleImputer(np.nan, strategy=\"most_frequent\")\n",
    "    X[:,7]=cabin_impute.fit_transform(X[:,7].reshape(-1,1)).ravel()\n",
    "    \n",
    "    embarked_impute=SimpleImputer(np.nan, strategy=\"most_frequent\")\n",
    "    X[:,8]=embarked_impute.fit_transform(X[:,8].reshape(-1,1)).ravel()\n",
    "    \n",
    "    # encode\n",
    "    sex_encoder = LabelEncoder()\n",
    "    X[:,1] = sex_encoder.fit_transform(X[:,1])\n",
    "    \n",
    "    ticket_encoder = LabelEncoder()\n",
    "    X[:,5] = ticket_encoder.fit_transform(X[:,5])\n",
    "    \n",
    "    cabin_encoder = LabelEncoder()\n",
    "    X[:,7] = cabin_encoder.fit_transform(X[:,7])\n",
    "    \n",
    "    embarked_encoder = LabelEncoder()\n",
    "    X[:,8] = embarked_encoder.fit_transform(X[:,8])\n",
    "    \n",
    "    return X, y"
   ]
  },
  {
   "cell_type": "code",
   "execution_count": 29,
   "metadata": {},
   "outputs": [],
   "source": [
    "X_train,y_train=read_csv(\"train.csv\")\n",
    "X_test,y_test=read_csv(\"test.csv\")"
   ]
  },
  {
   "cell_type": "code",
   "execution_count": 30,
   "metadata": {},
   "outputs": [
    {
     "data": {
      "text/plain": [
       "DecisionTreeClassifier(ccp_alpha=0.0, class_weight=None, criterion='gini',\n",
       "                       max_depth=None, max_features=None, max_leaf_nodes=None,\n",
       "                       min_impurity_decrease=0.0, min_impurity_split=None,\n",
       "                       min_samples_leaf=1, min_samples_split=2,\n",
       "                       min_weight_fraction_leaf=0.0, presort='deprecated',\n",
       "                       random_state=None, splitter='best')"
      ]
     },
     "execution_count": 30,
     "metadata": {},
     "output_type": "execute_result"
    }
   ],
   "source": [
    "from sklearn.tree import DecisionTreeClassifier\n",
    "\n",
    "classifier = DecisionTreeClassifier()\n",
    "\n",
    "classifier.fit(X_train, y_train)"
   ]
  },
  {
   "cell_type": "code",
   "execution_count": 31,
   "metadata": {},
   "outputs": [
    {
     "name": "stdout",
     "output_type": "stream",
     "text": [
      "Accuracy_score: 0.9985955056179775\n"
     ]
    }
   ],
   "source": [
    "predictions = classifier.predict(X_test)\n",
    "from sklearn.metrics import accuracy_score\n",
    "print(\"Accuracy_score:\", accuracy_score(y_test, predictions))"
   ]
  },
  {
   "cell_type": "code",
   "execution_count": null,
   "metadata": {},
   "outputs": [],
   "source": []
  }
 ],
 "metadata": {
  "kernelspec": {
   "display_name": "Python 3",
   "language": "python",
   "name": "python3"
  },
  "language_info": {
   "codemirror_mode": {
    "name": "ipython",
    "version": 3
   },
   "file_extension": ".py",
   "mimetype": "text/x-python",
   "name": "python",
   "nbconvert_exporter": "python",
   "pygments_lexer": "ipython3",
   "version": "3.7.6"
  }
 },
 "nbformat": 4,
 "nbformat_minor": 4
}
