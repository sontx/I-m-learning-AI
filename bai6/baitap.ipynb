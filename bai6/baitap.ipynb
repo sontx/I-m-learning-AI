{
 "cells": [
  {
   "cell_type": "code",
   "execution_count": 1,
   "metadata": {},
   "outputs": [],
   "source": [
    "import pandas as pd\n",
    "import numpy as np"
   ]
  },
  {
   "cell_type": "code",
   "execution_count": 27,
   "metadata": {},
   "outputs": [
    {
     "data": {
      "text/plain": [
       "Annual Income (k$)        0\n",
       "Spending Score (1-100)    0\n",
       "dtype: int64"
      ]
     },
     "execution_count": 27,
     "metadata": {},
     "output_type": "execute_result"
    }
   ],
   "source": [
    "df = pd.read_csv(\"baitap.csv\")\n",
    "X = df.iloc[:, 0:2].values\n",
    "df.isnull().sum()"
   ]
  },
  {
   "cell_type": "code",
   "execution_count": 6,
   "metadata": {},
   "outputs": [
    {
     "data": {
      "image/png": "[encoded data removed]",
      "text/plain": [
       "<Figure size 432x288 with 1 Axes>"
      ]
     },
     "metadata": {
      "needs_background": "light"
     },
     "output_type": "display_data"
    }
   ],
   "source": [
    "# find K\n",
    "\n",
    "from sklearn.cluster import KMeans\n",
    "import matplotlib.pyplot as plt\n",
    "\n",
    "def elbow(X, fixed_k):\n",
    "    distortions = []\n",
    "    for k in fixed_k:\n",
    "        cluster = KMeans(n_clusters=k)\n",
    "        cluster.fit(X)\n",
    "        distortions.append(cluster.inertia_)\n",
    "\n",
    "    plt.plot(fixed_k, distortions, 'x-')\n",
    "    plt.xlabel('k')\n",
    "    plt.ylabel('Distortion')\n",
    "    plt.title('The Elbow method')\n",
    "\n",
    "elbow(X, range(1, 20))\n",
    "# select K=8"
   ]
  },
  {
   "cell_type": "code",
   "execution_count": 7,
   "metadata": {},
   "outputs": [],
   "source": [
    "K=8"
   ]
  },
  {
   "cell_type": "code",
   "execution_count": 8,
   "metadata": {},
   "outputs": [
    {
     "data": {
      "text/plain": [
       "{0: array([93, 90], dtype=int64),\n",
       " 1: array([74, 72], dtype=int64),\n",
       " 2: array([103,  85], dtype=int64),\n",
       " 3: array([37, 26], dtype=int64),\n",
       " 4: array([24, 73], dtype=int64)}"
      ]
     },
     "execution_count": 8,
     "metadata": {},
     "output_type": "execute_result"
    }
   ],
   "source": [
    "# initialize random center points\n",
    "def create_centers(X):\n",
    "    indicates = np.random.randint(0, len(X), size=K)\n",
    "    initial_centers = X[indicates]\n",
    "    return initial_centers\n",
    "\n",
    "centers = create_centers(X)\n",
    "centers = {i: value for i, value in enumerate(centers)}\n",
    "centers"
   ]
  },
  {
   "cell_type": "code",
   "execution_count": 14,
   "metadata": {},
   "outputs": [
    {
     "data": {
      "text/plain": [
       "{0: array([86.53846154, 82.12820513]),\n",
       " 1: array([55.2962963 , 49.51851852]),\n",
       " 2: array([88.2       , 17.11428571]),\n",
       " 3: array([26.30434783, 20.91304348]),\n",
       " 4: array([25.72727273, 79.36363636])}"
      ]
     },
     "execution_count": 14,
     "metadata": {},
     "output_type": "execute_result"
    }
   ],
   "source": [
    "# find new center points\n",
    "\n",
    "import copy\n",
    "\n",
    "def fit(X, max_iter, epsilon, centers):\n",
    "    count = 0\n",
    "    while count < max_iter:\n",
    "        features = {cluster: [] for cluster in range(K)}\n",
    "        for x in X:\n",
    "            distances = [np.linalg.norm(x - centers[center]) for center in centers]\n",
    "            nearest = np.argmin(distances)\n",
    "            features[nearest].append(x)\n",
    "            \n",
    "        old_centers = copy.deepcopy(centers)\n",
    "        is_optimal = False\n",
    "        for center in centers:\n",
    "            centers[center] = np.mean(features[center], axis=0)\n",
    "            if np.abs(centers[center] - old_centers[center]).all() < epsilon:\n",
    "                is_optimal = True\n",
    "    \n",
    "        if is_optimal:\n",
    "            break \n",
    "        count+=1\n",
    "    return centers\n",
    "\n",
    "centers = fit(X, max_iter=100, epsilon=1e-5, centers=centers)\n",
    "centers"
   ]
  },
  {
   "cell_type": "code",
   "execution_count": 26,
   "metadata": {},
   "outputs": [
    {
     "name": "stdout",
     "output_type": "stream",
     "text": [
      "Score= 0.4563394686110682\n"
     ]
    }
   ],
   "source": [
    "# use lib\n",
    "\n",
    "K=8\n",
    "\n",
    "from sklearn.cluster import KMeans\n",
    "from sklearn.metrics import silhouette_score\n",
    "\n",
    "cluster = KMeans(n_clusters=K, init='k-means++') # k-means++, random\n",
    "cluster.fit(X)\n",
    "\n",
    "score = silhouette_score(X, cluster.labels_)\n",
    "print(\"Score=\", score)"
   ]
  },
  {
   "cell_type": "code",
   "execution_count": null,
   "metadata": {},
   "outputs": [],
   "source": []
  }
 ],
 "metadata": {
  "kernelspec": {
   "display_name": "Python 3",
   "language": "python",
   "name": "python3"
  },
  "language_info": {
   "codemirror_mode": {
    "name": "ipython",
    "version": 3
   },
   "file_extension": ".py",
   "mimetype": "text/x-python",
   "name": "python",
   "nbconvert_exporter": "python",
   "pygments_lexer": "ipython3",
   "version": "3.7.6"
  }
 },
 "nbformat": 4,
 "nbformat_minor": 4
}
