{
 "cells": [
  {
   "cell_type": "markdown",
   "metadata": {},
   "source": [
    "## Giới thiệu về thuật toán Kmeans Clustering"
   ]
  },
  {
   "cell_type": "markdown",
   "metadata": {},
   "source": [
    "Kmeans là thuật toán học không giám sát (Vì dữ liệu không có label) cụ thể đây là thuật toán phân cụm. Thuật toán phân dữ liệu thành các group dựa vào bản chất của dữ liệu, sao cho dữ liệu trong mỗi group có điểm tương đồng dựa theo một tiêu chí nào đó."
   ]
  },
  {
   "cell_type": "markdown",
   "metadata": {},
   "source": [
    "## Import thư viện"
   ]
  },
  {
   "cell_type": "code",
   "execution_count": 2,
   "metadata": {},
   "outputs": [],
   "source": [
    "import pandas as pd\n",
    "import matplotlib.pyplot as plt\n",
    "import numpy as np"
   ]
  },
  {
   "cell_type": "markdown",
   "metadata": {},
   "source": [
    "## Đọc và plot dữ liệu"
   ]
  },
  {
   "cell_type": "code",
   "execution_count": 3,
   "metadata": {},
   "outputs": [
    {
     "data": {
      "image/png": "[encoded data removed]",
      "text/plain": [
       "<Figure size 432x288 with 1 Axes>"
      ]
     },
     "metadata": {
      "needs_background": "light"
     },
     "output_type": "display_data"
    }
   ],
   "source": [
    "df = pd.read_csv(\"data.csv\")\n",
    "\n",
    "def plot(df):\n",
    "    species_versicolor = df[df['Species']=='Iris-versicolor']\n",
    "    species_virginica = df[df['Species']=='Iris-virginica']\n",
    "    species_setosa = df[df['Species']=='Iris-setosa']\n",
    "    \n",
    "    plt.scatter(x=species_versicolor['PetalLengthCm'], y=species_versicolor['PetalWidthCm'], color='red', edgecolor='none')\n",
    "    plt.scatter(x=species_virginica['PetalLengthCm'], y=species_virginica['PetalWidthCm'], color='blue', edgecolor='none')\n",
    "    plt.scatter(x=species_setosa['PetalLengthCm'], y=species_setosa['PetalWidthCm'], color='yellow', edgecolor='none')\n",
    "\n",
    "plot(df)\n",
    "X = df.iloc[:, 0:2].values\n",
    "# y = df['Species'].values"
   ]
  },
  {
   "cell_type": "markdown",
   "metadata": {},
   "source": [
    "## Thuật toán Kmeans - Tự implement"
   ]
  },
  {
   "cell_type": "markdown",
   "metadata": {},
   "source": [
    "### Thuật toán"
   ]
  },
  {
   "cell_type": "markdown",
   "metadata": {},
   "source": [
    "1. Chọn K\n",
    "2. Random center\n",
    "3. Lăp nếu nhỏ hơn số lần lặp chỉ định trước hoặc |old_center-new_center| < epsilon <br />\n",
    "\tb1. Phân mỗi điểm dữ liệu vào cụm có center gần nó nhất <br />\n",
    "\tb2 Cập nhật center bằng cách lấy trung bình tất cả dữ liệu trong cụm đó"
   ]
  },
  {
   "cell_type": "markdown",
   "metadata": {},
   "source": [
    "#### 1. Chọn K"
   ]
  },
  {
   "cell_type": "code",
   "execution_count": 12,
   "metadata": {},
   "outputs": [],
   "source": [
    "K = 3"
   ]
  },
  {
   "cell_type": "markdown",
   "metadata": {},
   "source": [
    "#### 2. Random center"
   ]
  },
  {
   "cell_type": "code",
   "execution_count": 45,
   "metadata": {},
   "outputs": [
    {
     "data": {
      "text/plain": [
       "{0: array([1.5, 0.1]), 1: array([4.8, 1.8]), 2: array([1.4, 0.2])}"
      ]
     },
     "execution_count": 45,
     "metadata": {},
     "output_type": "execute_result"
    }
   ],
   "source": [
    "def create_centers(X):\n",
    "    indicates = np.random.randint(0, len(X), size=K)\n",
    "    initial_centers = X[indicates]\n",
    "    return initial_centers\n",
    "\n",
    "centers = create_centers(X)\n",
    "centers = {i: value for i, value in enumerate(centers)}\n",
    "centers"
   ]
  },
  {
   "cell_type": "markdown",
   "metadata": {},
   "source": [
    "#### 3. Lăp nếu nhỏ hơn số lần lặp chỉ định trước hoặc |old_center-new_center| < epsilon"
   ]
  },
  {
   "cell_type": "code",
   "execution_count": 33,
   "metadata": {},
   "outputs": [
    {
     "data": {
      "text/plain": [
       "{0: array([1.464, 0.244]),\n",
       " 1: array([5.62608696, 2.04782609]),\n",
       " 2: array([4.29259259, 1.35925926])}"
      ]
     },
     "execution_count": 33,
     "metadata": {},
     "output_type": "execute_result"
    }
   ],
   "source": [
    "import copy\n",
    "\n",
    "def fit(X, max_iter, epsilon, centers):\n",
    "    count = 0\n",
    "    while count < max_iter:\n",
    "        features = {cluster: [] for cluster in range(K)}\n",
    "        for x in X:\n",
    "            distances = [np.linalg.norm(x - centers[center]) for center in centers]\n",
    "            nearest = np.argmin(distances)\n",
    "            features[nearest].append(x)\n",
    "            \n",
    "        old_centers = copy.deepcopy(centers)\n",
    "        is_optimal = False\n",
    "        for center in centers:\n",
    "            centers[center] = np.mean(features[center], axis=0)\n",
    "            if np.abs(centers[center] - old_centers[center]).all() < epsilon:\n",
    "                is_optimal = True\n",
    "    \n",
    "        if is_optimal:\n",
    "            break \n",
    "        count+=1\n",
    "    return centers\n",
    "\n",
    "centers = fit(X, max_iter=100, epsilon=1e-4, centers=centers)\n",
    "centers"
   ]
  },
  {
   "cell_type": "markdown",
   "metadata": {},
   "source": [
    "#### Plot kết quả"
   ]
  },
  {
   "cell_type": "code",
   "execution_count": 29,
   "metadata": {},
   "outputs": [
    {
     "data": {
      "image/png": "[encoded data removed]",
      "text/plain": [
       "<Figure size 432x288 with 1 Axes>"
      ]
     },
     "metadata": {
      "needs_background": "light"
     },
     "output_type": "display_data"
    }
   ],
   "source": [
    "def plot_result(centers, df):\n",
    "    plot(df)\n",
    "    plt.plot(centers[0][0], centers[0][1], 'b^', markersize = 20, alpha = .8)\n",
    "    plt.plot(centers[1][0], centers[1][1], 'go', markersize = 20, alpha = .8)\n",
    "    plt.plot(centers[2][0], centers[2][1], 'ys', markersize = 20, alpha = .8)\n",
    "plot_result(centers, df)"
   ]
  },
  {
   "cell_type": "markdown",
   "metadata": {},
   "source": [
    "## Sử dụng thư viện"
   ]
  },
  {
   "cell_type": "code",
   "execution_count": 5,
   "metadata": {},
   "outputs": [
    {
     "ename": "NameError",
     "evalue": "name 'K' is not defined",
     "output_type": "error",
     "traceback": [
      "\u001b[1;31m---------------------------------------------------------------------------\u001b[0m",
      "\u001b[1;31mNameError\u001b[0m                                 Traceback (most recent call last)",
      "\u001b[1;32m<ipython-input-5-1a1db081516c>\u001b[0m in \u001b[0;36m<module>\u001b[1;34m\u001b[0m\n\u001b[0;32m      1\u001b[0m \u001b[1;32mfrom\u001b[0m \u001b[0msklearn\u001b[0m\u001b[1;33m.\u001b[0m\u001b[0mcluster\u001b[0m \u001b[1;32mimport\u001b[0m \u001b[0mKMeans\u001b[0m\u001b[1;33m\u001b[0m\u001b[1;33m\u001b[0m\u001b[0m\n\u001b[0;32m      2\u001b[0m \u001b[1;33m\u001b[0m\u001b[0m\n\u001b[1;32m----> 3\u001b[1;33m \u001b[0mcluster\u001b[0m \u001b[1;33m=\u001b[0m \u001b[0mKMeans\u001b[0m\u001b[1;33m(\u001b[0m\u001b[0mn_clusters\u001b[0m\u001b[1;33m=\u001b[0m\u001b[0mK\u001b[0m\u001b[1;33m,\u001b[0m \u001b[0minit\u001b[0m\u001b[1;33m=\u001b[0m\u001b[1;34m'k-means++'\u001b[0m\u001b[1;33m)\u001b[0m\u001b[1;33m\u001b[0m\u001b[1;33m\u001b[0m\u001b[0m\n\u001b[0m\u001b[0;32m      4\u001b[0m \u001b[0mcluster\u001b[0m\u001b[1;33m.\u001b[0m\u001b[0mfit\u001b[0m\u001b[1;33m(\u001b[0m\u001b[0mX\u001b[0m\u001b[1;33m)\u001b[0m\u001b[1;33m\u001b[0m\u001b[1;33m\u001b[0m\u001b[0m\n",
      "\u001b[1;31mNameError\u001b[0m: name 'K' is not defined"
     ]
    }
   ],
   "source": [
    "from sklearn.cluster import KMeans\n",
    "\n",
    "cluster = KMeans(n_clusters=K, init='k-means++')\n",
    "cluster.fit(X)"
   ]
  },
  {
   "cell_type": "code",
   "execution_count": 41,
   "metadata": {},
   "outputs": [
    {
     "data": {
      "image/png": "[encoded data removed]",
      "text/plain": [
       "<Figure size 432x288 with 1 Axes>"
      ]
     },
     "metadata": {
      "needs_background": "light"
     },
     "output_type": "display_data"
    }
   ],
   "source": [
    "plot_result(cluster.cluster_centers_, df)"
   ]
  },
  {
   "cell_type": "markdown",
   "metadata": {},
   "source": [
    "## Evaluation"
   ]
  },
  {
   "cell_type": "markdown",
   "metadata": {},
   "source": [
    "silhouette_score là phương pháp đo độ tương đồng của các điểm dữ liệu trong một cluster <br />\n",
    "Giá trị này nằm trong khoảng từ -1 đến 1. Tốt nhất là 1. Tệ nhất là -1. Các giá trị càng gần 0 nghĩa là các cluster đang bị đè lên nhau"
   ]
  },
  {
   "cell_type": "code",
   "execution_count": 43,
   "metadata": {},
   "outputs": [
    {
     "name": "stdout",
     "output_type": "stream",
     "text": [
      "Score= 0.6602760882193361\n"
     ]
    }
   ],
   "source": [
    "from sklearn.metrics import silhouette_score\n",
    "\n",
    "score = silhouette_score(X, cluster.labels_)\n",
    "print(\"Score=\", score)"
   ]
  },
  {
   "cell_type": "markdown",
   "metadata": {},
   "source": [
    "## Choose reasonable K"
   ]
  },
  {
   "cell_type": "markdown",
   "metadata": {},
   "source": [
    "K là 1 hyperparameter được xác định trước quá trình training. Dữ liệu thông thường ta không thể biết được giá trị optimal K. Sử dụng elbow để tìm ra giá trị K thích hợp <br/>\n",
    "Việc lựa chọn giá trị của K sao cho K không quá lớn và giá trị của distortions phải đủ nhỏ. Có sự đánh đổi giữa giá trị của K và distortions. Vì khi K lớn thì K = n_samples khi đó distortions có giá trị nhỏ tiến dần đến 0"
   ]
  },
  {
   "cell_type": "code",
   "execution_count": 6,
   "metadata": {
    "scrolled": true
   },
   "outputs": [
    {
     "name": "stdout",
     "output_type": "stream",
     "text": [
      "550.6434666666667\n",
      "86.40394533571003\n",
      "31.38775897435898\n",
      "19.49940089968511\n",
      "13.933308757908758\n",
      "11.041545110250373\n",
      "9.343542857142857\n",
      "7.726251190476192\n",
      "6.496659206692712\n"
     ]
    },
    {
     "data": {
      "image/png": "[encoded data removed]",
      "text/plain": [
       "<Figure size 432x288 with 1 Axes>"
      ]
     },
     "metadata": {
      "needs_background": "light"
     },
     "output_type": "display_data"
    }
   ],
   "source": [
    "def elbow(X, fixed_k):\n",
    "    distortions = []\n",
    "    for k in fixed_k:\n",
    "        cluster = KMeans(n_clusters=k)\n",
    "        cluster.fit(X)\n",
    "        distortions.append(cluster.inertia_)\n",
    "        print(cluster.inertia_)\n",
    "\n",
    "    plt.plot(fixed_k, distortions, 'x-')\n",
    "    plt.xlabel('k')\n",
    "    plt.ylabel('Distortion')\n",
    "    plt.title('The Elbow method')\n",
    "\n",
    "elbow(X, range(1, 10))"
   ]
  },
  {
   "cell_type": "markdown",
   "metadata": {},
   "source": [
    "## Kmeans++"
   ]
  },
  {
   "cell_type": "markdown",
   "metadata": {},
   "source": [
    "Chiến thuật để khởi tạo giá trị của các center ban đầu để tránh trường hợp bị mắc kẹt ở vị trí local minimum"
   ]
  },
  {
   "cell_type": "markdown",
   "metadata": {},
   "source": [
    "<img src=\"kmeans++.png\" width=\"400px\">"
   ]
  },
  {
   "cell_type": "markdown",
   "metadata": {},
   "source": [
    "1. Chọn random một điểm bất kỳ làm center <br/>\n",
    "<img src=\"kmeans_1++.png\" width=\"400px\">"
   ]
  },
  {
   "cell_type": "markdown",
   "metadata": {},
   "source": [
    "2. Tính khoảng cách từ điểm đó đến tất cả các điểm còn lại\n",
    "<img src=\"kmeans_2++.png\" width=\"400px\">"
   ]
  },
  {
   "cell_type": "markdown",
   "metadata": {},
   "source": [
    "3. Chọn điểm có khoảng cách xa nhất làm center thứ 2\n",
    "<img src=\"kmeans_3++.png\" width=\"400px\">"
   ]
  },
  {
   "cell_type": "markdown",
   "metadata": {},
   "source": [
    "4. Tính khoảng cách các điểm đến center gần nó nhất\n",
    "<img src=\"kmeans_4++.png\" width=\"400px\">"
   ]
  },
  {
   "cell_type": "markdown",
   "metadata": {},
   "source": [
    "5. Center mới thu được chính là điểm dữ liệu có khoảng cách dài nhất khi so sánh khoảng cách dài nhất ứng với mỗi center đã tính ở bước trên \n",
    "<img src=\"kmeans_5++.png\" width=\"400px\">"
   ]
  },
  {
   "cell_type": "markdown",
   "metadata": {},
   "source": [
    "6. Lặp cho đến khi số lượng centers bằng K\n",
    "<img src=\"kmeans_6++.png\" width=\"400px\">"
   ]
  }
 ],
 "metadata": {
  "kernelspec": {
   "display_name": "Python 3",
   "language": "python",
   "name": "python3"
  },
  "language_info": {
   "codemirror_mode": {
    "name": "ipython",
    "version": 3
   },
   "file_extension": ".py",
   "mimetype": "text/x-python",
   "name": "python",
   "nbconvert_exporter": "python",
   "pygments_lexer": "ipython3",
   "version": "3.7.6"
  }
 },
 "nbformat": 4,
 "nbformat_minor": 4
}
