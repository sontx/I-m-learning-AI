{
 "cells": [
  {
   "cell_type": "code",
   "execution_count": 1,
   "metadata": {},
   "outputs": [
    {
     "data": {
      "text/html": [
       "<div>\n",
       "<style scoped>\n",
       "    .dataframe tbody tr th:only-of-type {\n",
       "        vertical-align: middle;\n",
       "    }\n",
       "\n",
       "    .dataframe tbody tr th {\n",
       "        vertical-align: top;\n",
       "    }\n",
       "\n",
       "    .dataframe thead th {\n",
       "        text-align: right;\n",
       "    }\n",
       "</style>\n",
       "<table border=\"1\" class=\"dataframe\">\n",
       "  <thead>\n",
       "    <tr style=\"text-align: right;\">\n",
       "      <th></th>\n",
       "      <th>Species</th>\n",
       "      <th>Weight</th>\n",
       "      <th>Length1</th>\n",
       "      <th>Length2</th>\n",
       "      <th>Length3</th>\n",
       "      <th>Height</th>\n",
       "      <th>Width</th>\n",
       "    </tr>\n",
       "  </thead>\n",
       "  <tbody>\n",
       "    <tr>\n",
       "      <th>0</th>\n",
       "      <td>Bream</td>\n",
       "      <td>242.0</td>\n",
       "      <td>23.2</td>\n",
       "      <td>25.4</td>\n",
       "      <td>30.0</td>\n",
       "      <td>11.5200</td>\n",
       "      <td>4.0200</td>\n",
       "    </tr>\n",
       "    <tr>\n",
       "      <th>1</th>\n",
       "      <td>Bream</td>\n",
       "      <td>290.0</td>\n",
       "      <td>24.0</td>\n",
       "      <td>26.3</td>\n",
       "      <td>31.2</td>\n",
       "      <td>12.4800</td>\n",
       "      <td>4.3056</td>\n",
       "    </tr>\n",
       "    <tr>\n",
       "      <th>2</th>\n",
       "      <td>Bream</td>\n",
       "      <td>340.0</td>\n",
       "      <td>23.9</td>\n",
       "      <td>26.5</td>\n",
       "      <td>31.1</td>\n",
       "      <td>12.3778</td>\n",
       "      <td>4.6961</td>\n",
       "    </tr>\n",
       "    <tr>\n",
       "      <th>3</th>\n",
       "      <td>Bream</td>\n",
       "      <td>363.0</td>\n",
       "      <td>26.3</td>\n",
       "      <td>29.0</td>\n",
       "      <td>33.5</td>\n",
       "      <td>12.7300</td>\n",
       "      <td>4.4555</td>\n",
       "    </tr>\n",
       "    <tr>\n",
       "      <th>4</th>\n",
       "      <td>Bream</td>\n",
       "      <td>430.0</td>\n",
       "      <td>26.5</td>\n",
       "      <td>NaN</td>\n",
       "      <td>34.0</td>\n",
       "      <td>12.4440</td>\n",
       "      <td>5.1340</td>\n",
       "    </tr>\n",
       "  </tbody>\n",
       "</table>\n",
       "</div>"
      ],
      "text/plain": [
       "  Species  Weight  Length1  Length2  Length3   Height   Width\n",
       "0   Bream   242.0     23.2     25.4     30.0  11.5200  4.0200\n",
       "1   Bream   290.0     24.0     26.3     31.2  12.4800  4.3056\n",
       "2   Bream   340.0     23.9     26.5     31.1  12.3778  4.6961\n",
       "3   Bream   363.0     26.3     29.0     33.5  12.7300  4.4555\n",
       "4   Bream   430.0     26.5      NaN     34.0  12.4440  5.1340"
      ]
     },
     "execution_count": 1,
     "metadata": {},
     "output_type": "execute_result"
    }
   ],
   "source": [
    "import pandas as pd\n",
    "import numpy as np\n",
    "df=pd.read_csv(\"Fish.csv\")\n",
    "df.head(5)"
   ]
  },
  {
   "cell_type": "code",
   "execution_count": 2,
   "metadata": {},
   "outputs": [],
   "source": [
    "feature_columns=[\"Species\", \"Length1\", \"Length2\", \"Length3\", \"Height\", \"Width\"]\n",
    "label_column=\"Weight\"\n",
    "features=df.loc[:,feature_columns]\n",
    "label=df.loc[:,label_column]"
   ]
  },
  {
   "cell_type": "code",
   "execution_count": 3,
   "metadata": {},
   "outputs": [
    {
     "data": {
      "text/plain": [
       "Species    1\n",
       "Length1    1\n",
       "Length2    1\n",
       "Length3    1\n",
       "Height     0\n",
       "Width      0\n",
       "dtype: int64"
      ]
     },
     "execution_count": 3,
     "metadata": {},
     "output_type": "execute_result"
    }
   ],
   "source": [
    "features.isnull().sum()"
   ]
  },
  {
   "cell_type": "code",
   "execution_count": 4,
   "metadata": {},
   "outputs": [
    {
     "data": {
      "text/plain": [
       "Species    0\n",
       "Length1    0\n",
       "Length2    0\n",
       "Length3    0\n",
       "Height     0\n",
       "Width      0\n",
       "dtype: int64"
      ]
     },
     "execution_count": 4,
     "metadata": {},
     "output_type": "execute_result"
    }
   ],
   "source": [
    "X=features.values\n",
    "y=label.values\n",
    "\n",
    "# preprocessing\n",
    "\n",
    "# fill species\n",
    "from sklearn.impute import SimpleImputer\n",
    "\n",
    "species_impute=SimpleImputer(np.nan, strategy=\"most_frequent\")\n",
    "X[:,0]=species_impute.fit_transform(X[:,0].reshape(-1,1)).ravel()\n",
    "\n",
    "# fill length1, length2 and length3\n",
    "continues_value_impute=SimpleImputer(np.nan, strategy=\"mean\")\n",
    "X[:,1:4]=continues_value_impute.fit_transform(X[:,1:4])\n",
    "\n",
    "# check\n",
    "new_df=pd.DataFrame.from_records(X, columns=feature_columns)\n",
    "new_df.isnull().sum()"
   ]
  },
  {
   "cell_type": "code",
   "execution_count": 5,
   "metadata": {},
   "outputs": [],
   "source": [
    "# normalize\n",
    "\n",
    "from sklearn.preprocessing import LabelEncoder\n",
    "encoder=LabelEncoder()\n",
    "X[:,0]=encoder.fit_transform(X[:,0])"
   ]
  },
  {
   "cell_type": "code",
   "execution_count": 6,
   "metadata": {},
   "outputs": [],
   "source": [
    "# train/test\n",
    "\n",
    "from sklearn.model_selection import train_test_split\n",
    "X_train,X_test,y_train,y_test=train_test_split(X, y, test_size=0.2)"
   ]
  },
  {
   "cell_type": "code",
   "execution_count": 7,
   "metadata": {},
   "outputs": [
    {
     "data": {
      "text/plain": [
       "array([-562.9953178915268, 12.01174544870672, 8.947553846309802,\n",
       "       -4.565541004999432, 17.440849680821884, 3.262331125286437,\n",
       "       59.870763867328606], dtype=object)"
      ]
     },
     "execution_count": 7,
     "metadata": {},
     "output_type": "execute_result"
    }
   ],
   "source": [
    "# algorithmn\n",
    "\n",
    "ones=np.ones((X_train.shape[0],1))\n",
    "X_bar=np.concatenate((ones,X_train),axis=1)\n",
    "inverse=np.linalg.pinv(np.asarray(np.dot(X_bar.T,X_bar), dtype=\"float\"))\n",
    "w=np.dot(np.dot(X_bar.T, y_train), inverse)\n",
    "w"
   ]
  },
  {
   "cell_type": "code",
   "execution_count": 41,
   "metadata": {},
   "outputs": [
    {
     "name": "stdout",
     "output_type": "stream",
     "text": [
      "[  5.28784751 -19.05259282  25.4367109   12.57962381   4.7219619\n",
      "  69.95924812]\n",
      "-585.5075694702032\n"
     ]
    }
   ],
   "source": [
    "# check with built-in lib\n",
    "\n",
    "from sklearn.linear_model import LinearRegression\n",
    "linear=LinearRegression()\n",
    "linear.fit(X_train,y_train)\n",
    "print(linear.coef_)# without w0\n",
    "print(linear.intercept_)# w0"
   ]
  },
  {
   "cell_type": "code",
   "execution_count": 48,
   "metadata": {},
   "outputs": [
    {
     "name": "stdout",
     "output_type": "stream",
     "text": [
      "root mean squared error on train: 127.03384393492952\n",
      "root mean squared error on test: 116.25107311854295\n"
     ]
    }
   ],
   "source": [
    "# test\n",
    "\n",
    "# mean square error\n",
    "from sklearn.metrics import mean_squared_error, mean_absolute_error\n",
    "predict_test=linear.predict(X_test)\n",
    "predict_train=linear.predict(X_train)\n",
    "\n",
    "print(\"root mean squared error on train: {}\".format(np.sqrt(mean_squared_error(y_train, predict_train))))\n",
    "print(\"root mean squared error on test: {}\".format(np.sqrt(mean_squared_error(y_test, predict_test))))"
   ]
  },
  {
   "cell_type": "code",
   "execution_count": 51,
   "metadata": {},
   "outputs": [
    {
     "data": {
      "text/plain": [
       "Ridge(alpha=100, copy_X=True, fit_intercept=True, max_iter=None,\n",
       "      normalize=False, random_state=None, solver='auto', tol=0.001)"
      ]
     },
     "execution_count": 51,
     "metadata": {},
     "output_type": "execute_result"
    }
   ],
   "source": [
    "# reduce overfitting\n",
    "\n",
    "# regulazization\n",
    "from sklearn.linear_model import Ridge, Lasso\n",
    "# ridge: L2\n",
    "# lasso: L1\n",
    "ridge=Ridge(alpha=100)# alpha cang lon cang tang do don gian cua model -> ko mo ta dc du lieu -> tang tinh tong quat -> giam hoc vet\n",
    "ridge.fit(X_train, y_train)"
   ]
  },
  {
   "cell_type": "code",
   "execution_count": 50,
   "metadata": {},
   "outputs": [
    {
     "name": "stdout",
     "output_type": "stream",
     "text": [
      "root mean squared error on train: 127.03992145247892\n",
      "root mean squared error on test: 115.31177601576466\n"
     ]
    }
   ],
   "source": [
    "predict_test=ridge.predict(X_test)\n",
    "predict_train=ridge.predict(X_train)\n",
    "\n",
    "print(\"root mean squared error on train: {}\".format(np.sqrt(mean_squared_error(y_train, predict_train))))\n",
    "print(\"root mean squared error on test: {}\".format(np.sqrt(mean_squared_error(y_test, predict_test))))"
   ]
  },
  {
   "cell_type": "code",
   "execution_count": null,
   "metadata": {},
   "outputs": [],
   "source": []
  }
 ],
 "metadata": {
  "kernelspec": {
   "display_name": "Python 3",
   "language": "python",
   "name": "python3"
  },
  "language_info": {
   "codemirror_mode": {
    "name": "ipython",
    "version": 3
   },
   "file_extension": ".py",
   "mimetype": "text/x-python",
   "name": "python",
   "nbconvert_exporter": "python",
   "pygments_lexer": "ipython3",
   "version": "3.7.6"
  }
 },
 "nbformat": 4,
 "nbformat_minor": 4
}
