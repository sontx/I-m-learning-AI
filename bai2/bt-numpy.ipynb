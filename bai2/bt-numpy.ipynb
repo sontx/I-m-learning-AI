{
 "cells": [
  {
   "cell_type": "code",
   "execution_count": 1,
   "metadata": {},
   "outputs": [],
   "source": [
    "import numpy as np"
   ]
  },
  {
   "cell_type": "code",
   "execution_count": 4,
   "metadata": {},
   "outputs": [
    {
     "name": "stdout",
     "output_type": "stream",
     "text": [
      "[0. 0. 0. 0. 0. 0. 0. 0. 0. 0.]\n"
     ]
    }
   ],
   "source": [
    "# Bài 1: Tạo vector 0 với kích thước 10\n",
    "print(np.zeros(10))"
   ]
  },
  {
   "cell_type": "code",
   "execution_count": 5,
   "metadata": {},
   "outputs": [
    {
     "name": "stdout",
     "output_type": "stream",
     "text": [
      "[0. 0. 0. 0. 0. 1. 0. 0. 0. 0.]\n"
     ]
    }
   ],
   "source": [
    "# Bài 2: Tạo vector 0 nhưng phần tử thứ 5 của vector bằng 1\n",
    "vector = np.zeros(10)\n",
    "vector[4] = 1\n",
    "print(vector)"
   ]
  },
  {
   "cell_type": "code",
   "execution_count": 8,
   "metadata": {},
   "outputs": [
    {
     "name": "stdout",
     "output_type": "stream",
     "text": [
      "[10 11 12 13 14 15 16 17 18 19 20 21 22 23 24 25 26 27 28 29 30 31 32 33\n",
      " 34 35 36 37 38 39 40 41 42 43 44 45 46 47 48 49 50]\n"
     ]
    }
   ],
   "source": [
    "# Bài 3: Tạo vector với giá trị các phần tử theo thứ tự nằm trong khoảng từ 10 đến 50\n",
    "# -> là random hay là count từ 10 đến 50 :|\n",
    "print(np.array(range(10, 51)))"
   ]
  },
  {
   "cell_type": "code",
   "execution_count": 10,
   "metadata": {},
   "outputs": [
    {
     "name": "stdout",
     "output_type": "stream",
     "text": [
      "[50 49 48 47 46 45 44 43 42 41 40 39 38 37 36 35 34 33 32 31 30 29 28 27\n",
      " 26 25 24 23 22 21 20 19 18 17 16 15 14 13 12 11 10]\n"
     ]
    }
   ],
   "source": [
    "# Bài 4: Tạo vector và đảo ngược vector đó\n",
    "print(np.flip(np.array(range(10, 51))))"
   ]
  },
  {
   "cell_type": "code",
   "execution_count": 13,
   "metadata": {},
   "outputs": [
    {
     "name": "stdout",
     "output_type": "stream",
     "text": [
      "[[1. 1. 1.]\n",
      " [1. 1. 1.]\n",
      " [1. 1. 1.]]\n"
     ]
    }
   ],
   "source": [
    "# Bài 5: Tạo ma trận đơn vị kích thước 3x3\n",
    "print(np.ones((3,3)))"
   ]
  },
  {
   "cell_type": "code",
   "execution_count": 18,
   "metadata": {},
   "outputs": [
    {
     "name": "stdout",
     "output_type": "stream",
     "text": [
      "[[15 17 67]\n",
      " [60 64  3]\n",
      " [56 44 17]]\n"
     ]
    }
   ],
   "source": [
    "# Bài 6: Tạo ma trận kích thước 3x3 với giá trị các phần tử nguyên ngẫu nhiên\n",
    "print(np.random.randint(low=1, high=100, size=(3,3)))"
   ]
  },
  {
   "cell_type": "code",
   "execution_count": 26,
   "metadata": {},
   "outputs": [
    {
     "name": "stdout",
     "output_type": "stream",
     "text": [
      "[[36 36 68 79 22 41 71 46 96 63]\n",
      " [ 9 79 55 21 88  9 77 73 95 97]\n",
      " [91 78 41 73 41 82 81 92 76 53]\n",
      " [92 83 98  6 29 69 59 91 95 67]\n",
      " [50 42 12 85 54 53 41 57 55 94]\n",
      " [94 97 81 93 69 65 74 46 82 27]\n",
      " [97  7 21 94 35 81 71 29  7 55]\n",
      " [ 7 94 89 59 28 78 81 72 33 66]\n",
      " [61 89 57 67 63 40 24  8 14  7]\n",
      " [98 24 16 26 81 85 41 32 66 87]]\n",
      "98\n"
     ]
    }
   ],
   "source": [
    "# Bài 7: Tạo ma trận 10x10 với giá trị các phần tử nguyên ngẫu nhiên trong khoảng 1 đến 100\n",
    "# sau đó tìm giá trị nhỏ nhất và lớn nhất\n",
    "matrix = np.random.randint(low=1,high=100,size=(10,10))\n",
    "print(matrix)\n",
    "size = matrix.shape\n",
    "max_val = 0\n",
    "for i in range(0, size[0]):\n",
    "    for j in range(0, size[1]):\n",
    "        val = matrix[i, j]\n",
    "        if (max_val < val):\n",
    "            max_val = val\n",
    "print(max_val)"
   ]
  },
  {
   "cell_type": "code",
   "execution_count": 34,
   "metadata": {},
   "outputs": [
    {
     "name": "stdout",
     "output_type": "stream",
     "text": [
      "57.0\n"
     ]
    }
   ],
   "source": [
    "# Bài 8: Tạo một vector kích thước 30 với các giá trị phần tử nguyên ngẫu nhiên trong khoảng 1 đến 100.\n",
    "# Sau đó tính trung bình\n",
    "matrix = np.random.randint(low=1,high=100,size=30)\n",
    "size = matrix.shape\n",
    "sum = 0\n",
    "for i in range(0, size[0]):\n",
    "    sum += matrix[i]\n",
    "print(sum / size[0])"
   ]
  },
  {
   "cell_type": "code",
   "execution_count": 52,
   "metadata": {},
   "outputs": [
    {
     "name": "stdout",
     "output_type": "stream",
     "text": [
      "[[1 1 1 1]\n",
      " [1 0 0 1]\n",
      " [1 0 0 1]\n",
      " [1 1 1 1]]\n"
     ]
    }
   ],
   "source": [
    "# Bài 9: Tạo ma trận 2 chiều với các giá trị các phần tử tại các cạnh\n",
    "# của ma trận là 1. Các phần tử nằm bên trong bằng 0\n",
    "matrix = np.array([[1,1,1,1],[1,0,0,1],[1,0,0,1],[1,1,1,1]])\n",
    "print(matrix)"
   ]
  },
  {
   "cell_type": "code",
   "execution_count": 61,
   "metadata": {},
   "outputs": [
    {
     "name": "stdout",
     "output_type": "stream",
     "text": [
      "[[ 0  0  0  0  0  0  0]\n",
      " [ 0 96 26 54  1 48  0]\n",
      " [ 0 36 32 91  5 90  0]\n",
      " [ 0 25 37 95 22 71  0]\n",
      " [ 0 15 69 91 23 77  0]\n",
      " [ 0 65 48 21 69 67  0]\n",
      " [ 0  0  0  0  0  0  0]]\n"
     ]
    }
   ],
   "source": [
    "# Bài 10: Cho một ma trận kích thước tùy ý. Thêm border(cạnh viền\n",
    "# giá trị bằng 0) bao xung quanh ma trận. (Note: Thêm vào chứ không ghì đè)\n",
    "matrix = np.random.randint(low=1,high=100,size=(5,5))\n",
    "matrix = np.insert(matrix, 0, 0, axis=1)\n",
    "matrix = np.insert(matrix, 6, 0, axis=1)\n",
    "matrix = np.insert(matrix, 0, 0, axis=0)\n",
    "matrix = np.insert(matrix, 6, 0, axis=0)\n",
    "print(matrix)"
   ]
  },
  {
   "cell_type": "code",
   "execution_count": 66,
   "metadata": {},
   "outputs": [
    {
     "name": "stdout",
     "output_type": "stream",
     "text": [
      "[[0. 0. 0. 0. 0.]\n",
      " [1. 0. 0. 0. 0.]\n",
      " [0. 2. 0. 0. 0.]\n",
      " [0. 0. 3. 0. 0.]\n",
      " [0. 0. 0. 4. 0.]]\n"
     ]
    }
   ],
   "source": [
    "# Bài 11: Tạo ma trận 0 kích thước 5x5.Với các phần tử nằm dưới\n",
    "# đường chéo chính bằng 1, 2, 3, 4\n",
    "# it's not stupid if it works :|\n",
    "matrix = np.zeros((5,5))\n",
    "for i in range(0, 5):\n",
    "    for j in range(0, 5):\n",
    "        if i == j + 1:\n",
    "            matrix[i, j]=i\n",
    "print(matrix)"
   ]
  },
  {
   "cell_type": "code",
   "execution_count": 69,
   "metadata": {},
   "outputs": [
    {
     "name": "stdout",
     "output_type": "stream",
     "text": [
      "[1 8 2 2 5 7 5 4 6 1]\n",
      "[1 1 2 2 4 5 5 6 7 8]\n",
      "[8 7 6 5 5 4 2 2 1 1]\n"
     ]
    }
   ],
   "source": [
    "# Bài 12: Tạo vector kích thước 10 sau đó sắp xếp tăng và giảm dần\n",
    "vector = np.random.randint(low=1, high=10, size=10)\n",
    "print(vector)\n",
    "print(np.sort(vector))\n",
    "print(np.flip(np.sort(vector)))# IQ 200 :))"
   ]
  },
  {
   "cell_type": "code",
   "execution_count": 71,
   "metadata": {},
   "outputs": [
    {
     "name": "stdout",
     "output_type": "stream",
     "text": [
      "[0.76613656 0.77499943 0.52320999 0.67916559 0.06984775 0.67550106\n",
      " 0.76991431 0.4103716  0.08859712 0.13785694]\n"
     ]
    }
   ],
   "source": [
    "# Bài 13: Tạo vector kích thước 10 với giá trị nằm trong khoảng từ 0 đến 1\n",
    "print(np.random.rand(10))"
   ]
  },
  {
   "cell_type": "code",
   "execution_count": null,
   "metadata": {},
   "outputs": [],
   "source": []
  }
 ],
 "metadata": {
  "kernelspec": {
   "display_name": "Python 3",
   "language": "python",
   "name": "python3"
  },
  "language_info": {
   "codemirror_mode": {
    "name": "ipython",
    "version": 3
   },
   "file_extension": ".py",
   "mimetype": "text/x-python",
   "name": "python",
   "nbconvert_exporter": "python",
   "pygments_lexer": "ipython3",
   "version": "3.7.6"
  }
 },
 "nbformat": 4,
 "nbformat_minor": 4
}
