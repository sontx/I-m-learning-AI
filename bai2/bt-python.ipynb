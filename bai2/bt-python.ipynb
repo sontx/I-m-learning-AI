{
 "cells": [
  {
   "cell_type": "code",
   "execution_count": 3,
   "metadata": {},
   "outputs": [
    {
     "name": "stdout",
     "output_type": "stream",
     "text": [
      "[1, 9, 25]\n"
     ]
    }
   ],
   "source": [
    "# Bài 1: Tính bình phương các phần tử lẻ trong list\n",
    "l = [1, 2, 3, 5]\n",
    "print(list(map(lambda x: x**2, filter(lambda x: x % 2 != 0, l))))"
   ]
  },
  {
   "cell_type": "code",
   "execution_count": 9,
   "metadata": {},
   "outputs": [
    {
     "name": "stdout",
     "output_type": "stream",
     "text": [
      "[15, 45]\n"
     ]
    }
   ],
   "source": [
    "# Bài 2: Tìm các phần tử chia hết cho 3 và 5.\n",
    "l = [1, 2, 5, 15, 20, 45]\n",
    "print(list(filter(lambda x: (x%3==0) and (x%5==0), l)))"
   ]
  },
  {
   "cell_type": "code",
   "execution_count": 10,
   "metadata": {},
   "outputs": [
    {
     "name": "stdout",
     "output_type": "stream",
     "text": [
      "[2, 4, 6, 10]\n"
     ]
    }
   ],
   "source": [
    "# Bài 3: Tính double của mỗi phần tử trong list\n",
    "l = [1, 2, 3, 5]\n",
    "print(list(map(lambda x: x*2, l)))"
   ]
  },
  {
   "cell_type": "code",
   "execution_count": 15,
   "metadata": {},
   "outputs": [
    {
     "name": "stdout",
     "output_type": "stream",
     "text": [
      "[1, 4, 16, 9, 25]\n"
     ]
    }
   ],
   "source": [
    "# Bài 4: Tìm số chính phương trong list\n",
    "import math\n",
    "l = [1, 2, 3, 4, 16, 9, 25, 5]\n",
    "print(list(filter(lambda x: float(math.sqrt(x)).is_integer(), l)))"
   ]
  },
  {
   "cell_type": "code",
   "execution_count": 24,
   "metadata": {},
   "outputs": [
    {
     "name": "stdout",
     "output_type": "stream",
     "text": [
      "(25, 6)\n"
     ]
    }
   ],
   "source": [
    "# Hàm trả về nhiều giá trị\n",
    "# Viết hàm tìm phần tử lớn nhất trong list, trả về giá trị và vị trí trong list\n",
    "def max_element_in_list(lst):\n",
    "    max_val = l[0]\n",
    "    max_idx = 0\n",
    "    for idx, el in enumerate(lst):\n",
    "        if max_val < el:\n",
    "            max_val = el\n",
    "            max_idx = idx\n",
    "    return max_val, max_idx\n",
    "\n",
    "l = [1, 2, 3, 4, 16, 9, 25, 5]\n",
    "print(max_element_in_list(l))"
   ]
  },
  {
   "cell_type": "code",
   "execution_count": 28,
   "metadata": {},
   "outputs": [
    {
     "name": "stdout",
     "output_type": "stream",
     "text": [
      "[0, 1]\n",
      "[4, 5, 6]\n",
      "[5, 6, 7, 8]\n",
      "[]\n"
     ]
    }
   ],
   "source": [
    "# Cắt list\n",
    "# Cho list 10 phần tử, cắt các list với các đoạn tương ứng sau:\n",
    "# (0, 2), (4:7), (5, 9), (8, 2) -> hi vong t hieu de :|\n",
    "l = list(range(0, 10))\n",
    "print(l[0:2])\n",
    "print(l[4:7])\n",
    "print(l[5:9])\n",
    "print(l[8:2])"
   ]
  },
  {
   "cell_type": "code",
   "execution_count": 30,
   "metadata": {},
   "outputs": [
    {
     "name": "stdout",
     "output_type": "stream",
     "text": [
      "[9, 8, 7, 6, 5, 4, 3, 2, 1, 0]\n"
     ]
    }
   ],
   "source": [
    "# Đảo list Tạo list 10 phần tử sau đó đảo ngược list\n",
    "l = list(range(0, 10))\n",
    "print(l[::-1])"
   ]
  },
  {
   "cell_type": "code",
   "execution_count": null,
   "metadata": {},
   "outputs": [],
   "source": []
  }
 ],
 "metadata": {
  "kernelspec": {
   "display_name": "Python 3",
   "language": "python",
   "name": "python3"
  },
  "language_info": {
   "codemirror_mode": {
    "name": "ipython",
    "version": 3
   },
   "file_extension": ".py",
   "mimetype": "text/x-python",
   "name": "python",
   "nbconvert_exporter": "python",
   "pygments_lexer": "ipython3",
   "version": "3.7.6"
  }
 },
 "nbformat": 4,
 "nbformat_minor": 4
}
