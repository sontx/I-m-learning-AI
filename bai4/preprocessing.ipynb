{
 "cells": [
  {
   "cell_type": "code",
   "execution_count": 2,
   "metadata": {},
   "outputs": [],
   "source": [
    "import pandas as pd\n",
    "import numpy as np"
   ]
  },
  {
   "cell_type": "code",
   "execution_count": 9,
   "metadata": {},
   "outputs": [],
   "source": [
    "df=pd.read_csv(\"Data.csv\")"
   ]
  },
  {
   "cell_type": "code",
   "execution_count": 10,
   "metadata": {},
   "outputs": [
    {
     "data": {
      "text/html": [
       "<div>\n",
       "<style scoped>\n",
       "    .dataframe tbody tr th:only-of-type {\n",
       "        vertical-align: middle;\n",
       "    }\n",
       "\n",
       "    .dataframe tbody tr th {\n",
       "        vertical-align: top;\n",
       "    }\n",
       "\n",
       "    .dataframe thead th {\n",
       "        text-align: right;\n",
       "    }\n",
       "</style>\n",
       "<table border=\"1\" class=\"dataframe\">\n",
       "  <thead>\n",
       "    <tr style=\"text-align: right;\">\n",
       "      <th></th>\n",
       "      <th>Country</th>\n",
       "      <th>Age</th>\n",
       "      <th>Salary</th>\n",
       "      <th>Purchased</th>\n",
       "    </tr>\n",
       "  </thead>\n",
       "  <tbody>\n",
       "    <tr>\n",
       "      <th>0</th>\n",
       "      <td>France</td>\n",
       "      <td>44.0</td>\n",
       "      <td>72000.0</td>\n",
       "      <td>No</td>\n",
       "    </tr>\n",
       "    <tr>\n",
       "      <th>1</th>\n",
       "      <td>Spain</td>\n",
       "      <td>27.0</td>\n",
       "      <td>48000.0</td>\n",
       "      <td>Yes</td>\n",
       "    </tr>\n",
       "    <tr>\n",
       "      <th>2</th>\n",
       "      <td>Germany</td>\n",
       "      <td>30.0</td>\n",
       "      <td>54000.0</td>\n",
       "      <td>No</td>\n",
       "    </tr>\n",
       "    <tr>\n",
       "      <th>3</th>\n",
       "      <td>Spain</td>\n",
       "      <td>38.0</td>\n",
       "      <td>61000.0</td>\n",
       "      <td>No</td>\n",
       "    </tr>\n",
       "    <tr>\n",
       "      <th>4</th>\n",
       "      <td>Germany</td>\n",
       "      <td>40.0</td>\n",
       "      <td>NaN</td>\n",
       "      <td>Yes</td>\n",
       "    </tr>\n",
       "    <tr>\n",
       "      <th>5</th>\n",
       "      <td>France</td>\n",
       "      <td>35.0</td>\n",
       "      <td>58000.0</td>\n",
       "      <td>Yes</td>\n",
       "    </tr>\n",
       "    <tr>\n",
       "      <th>6</th>\n",
       "      <td>NaN</td>\n",
       "      <td>NaN</td>\n",
       "      <td>52000.0</td>\n",
       "      <td>No</td>\n",
       "    </tr>\n",
       "    <tr>\n",
       "      <th>7</th>\n",
       "      <td>France</td>\n",
       "      <td>48.0</td>\n",
       "      <td>79000.0</td>\n",
       "      <td>Yes</td>\n",
       "    </tr>\n",
       "    <tr>\n",
       "      <th>8</th>\n",
       "      <td>Germany</td>\n",
       "      <td>50.0</td>\n",
       "      <td>83000.0</td>\n",
       "      <td>No</td>\n",
       "    </tr>\n",
       "    <tr>\n",
       "      <th>9</th>\n",
       "      <td>France</td>\n",
       "      <td>37.0</td>\n",
       "      <td>67000.0</td>\n",
       "      <td>Yes</td>\n",
       "    </tr>\n",
       "  </tbody>\n",
       "</table>\n",
       "</div>"
      ],
      "text/plain": [
       "   Country   Age   Salary Purchased\n",
       "0   France  44.0  72000.0        No\n",
       "1    Spain  27.0  48000.0       Yes\n",
       "2  Germany  30.0  54000.0        No\n",
       "3    Spain  38.0  61000.0        No\n",
       "4  Germany  40.0      NaN       Yes\n",
       "5   France  35.0  58000.0       Yes\n",
       "6      NaN   NaN  52000.0        No\n",
       "7   France  48.0  79000.0       Yes\n",
       "8  Germany  50.0  83000.0        No\n",
       "9   France  37.0  67000.0       Yes"
      ]
     },
     "execution_count": 10,
     "metadata": {},
     "output_type": "execute_result"
    }
   ],
   "source": [
    "df"
   ]
  },
  {
   "cell_type": "code",
   "execution_count": 5,
   "metadata": {},
   "outputs": [
    {
     "data": {
      "text/plain": [
       "Country      1\n",
       "Age          1\n",
       "Salary       1\n",
       "Purchased    0\n",
       "dtype: int64"
      ]
     },
     "execution_count": 5,
     "metadata": {},
     "output_type": "execute_result"
    }
   ],
   "source": [
    "df.isnull().sum()"
   ]
  },
  {
   "cell_type": "code",
   "execution_count": 5,
   "metadata": {},
   "outputs": [],
   "source": [
    "df = df.dropna(axis=0)"
   ]
  },
  {
   "cell_type": "code",
   "execution_count": 6,
   "metadata": {},
   "outputs": [
    {
     "data": {
      "text/html": [
       "<div>\n",
       "<style scoped>\n",
       "    .dataframe tbody tr th:only-of-type {\n",
       "        vertical-align: middle;\n",
       "    }\n",
       "\n",
       "    .dataframe tbody tr th {\n",
       "        vertical-align: top;\n",
       "    }\n",
       "\n",
       "    .dataframe thead th {\n",
       "        text-align: right;\n",
       "    }\n",
       "</style>\n",
       "<table border=\"1\" class=\"dataframe\">\n",
       "  <thead>\n",
       "    <tr style=\"text-align: right;\">\n",
       "      <th></th>\n",
       "      <th>Country</th>\n",
       "      <th>Age</th>\n",
       "      <th>Salary</th>\n",
       "      <th>Purchased</th>\n",
       "    </tr>\n",
       "  </thead>\n",
       "  <tbody>\n",
       "    <tr>\n",
       "      <th>0</th>\n",
       "      <td>France</td>\n",
       "      <td>44.0</td>\n",
       "      <td>72000.0</td>\n",
       "      <td>No</td>\n",
       "    </tr>\n",
       "    <tr>\n",
       "      <th>1</th>\n",
       "      <td>Spain</td>\n",
       "      <td>27.0</td>\n",
       "      <td>48000.0</td>\n",
       "      <td>Yes</td>\n",
       "    </tr>\n",
       "    <tr>\n",
       "      <th>2</th>\n",
       "      <td>Germany</td>\n",
       "      <td>30.0</td>\n",
       "      <td>54000.0</td>\n",
       "      <td>No</td>\n",
       "    </tr>\n",
       "    <tr>\n",
       "      <th>3</th>\n",
       "      <td>Spain</td>\n",
       "      <td>38.0</td>\n",
       "      <td>61000.0</td>\n",
       "      <td>No</td>\n",
       "    </tr>\n",
       "    <tr>\n",
       "      <th>4</th>\n",
       "      <td>Germany</td>\n",
       "      <td>40.0</td>\n",
       "      <td>NaN</td>\n",
       "      <td>Yes</td>\n",
       "    </tr>\n",
       "    <tr>\n",
       "      <th>5</th>\n",
       "      <td>France</td>\n",
       "      <td>35.0</td>\n",
       "      <td>58000.0</td>\n",
       "      <td>Yes</td>\n",
       "    </tr>\n",
       "    <tr>\n",
       "      <th>6</th>\n",
       "      <td>NaN</td>\n",
       "      <td>NaN</td>\n",
       "      <td>52000.0</td>\n",
       "      <td>No</td>\n",
       "    </tr>\n",
       "    <tr>\n",
       "      <th>7</th>\n",
       "      <td>France</td>\n",
       "      <td>48.0</td>\n",
       "      <td>79000.0</td>\n",
       "      <td>Yes</td>\n",
       "    </tr>\n",
       "    <tr>\n",
       "      <th>8</th>\n",
       "      <td>Germany</td>\n",
       "      <td>50.0</td>\n",
       "      <td>83000.0</td>\n",
       "      <td>No</td>\n",
       "    </tr>\n",
       "    <tr>\n",
       "      <th>9</th>\n",
       "      <td>France</td>\n",
       "      <td>37.0</td>\n",
       "      <td>67000.0</td>\n",
       "      <td>Yes</td>\n",
       "    </tr>\n",
       "  </tbody>\n",
       "</table>\n",
       "</div>"
      ],
      "text/plain": [
       "   Country   Age   Salary Purchased\n",
       "0   France  44.0  72000.0        No\n",
       "1    Spain  27.0  48000.0       Yes\n",
       "2  Germany  30.0  54000.0        No\n",
       "3    Spain  38.0  61000.0        No\n",
       "4  Germany  40.0      NaN       Yes\n",
       "5   France  35.0  58000.0       Yes\n",
       "6      NaN   NaN  52000.0        No\n",
       "7   France  48.0  79000.0       Yes\n",
       "8  Germany  50.0  83000.0        No\n",
       "9   France  37.0  67000.0       Yes"
      ]
     },
     "execution_count": 6,
     "metadata": {},
     "output_type": "execute_result"
    }
   ],
   "source": [
    "df"
   ]
  },
  {
   "cell_type": "code",
   "execution_count": 13,
   "metadata": {},
   "outputs": [
    {
     "data": {
      "text/plain": [
       "array(['France', 'Spain', 'Germany', 'Spain', 'Germany', 'France', nan,\n",
       "       'France', 'Germany', 'France'], dtype=object)"
      ]
     },
     "execution_count": 13,
     "metadata": {},
     "output_type": "execute_result"
    }
   ],
   "source": [
    "# fill nan\n",
    "\n",
    "from sklearn.impute import SimpleImputer\n",
    "X=df.values\n",
    "X[:,0]"
   ]
  },
  {
   "cell_type": "code",
   "execution_count": 8,
   "metadata": {},
   "outputs": [
    {
     "name": "stdout",
     "output_type": "stream",
     "text": [
      "Country      1\n",
      "Age          1\n",
      "Salary       1\n",
      "Purchased    0\n",
      "dtype: int64\n"
     ]
    }
   ],
   "source": [
    "# salary\n",
    "salary_impute = SimpleImputer(np.nan, strategy=\"mean\")\n",
    "X=df.values\n",
    "X[:,2]=salary_impute.fit_transform(X[:,2].reshape(-1,1)).ravel()\n",
    "\n",
    "print(df.isnull().sum())\n",
    "# age\n",
    "age_impute = SimpleImputer(np.nan, strategy=\"mean\")\n",
    "X[:,1]=age_impute.fit_transform(X[:,1].reshape(-1,1)).ravel()\n",
    "\n",
    "# country\n",
    "coutry_impute = SimpleImputer(np.nan, strategy=\"most_frequent\")\n",
    "X[:,0]=coutry_impute.fit_transform(X[:,0].reshape(-1,1)).ravel()"
   ]
  },
  {
   "cell_type": "code",
   "execution_count": 27,
   "metadata": {},
   "outputs": [
    {
     "data": {
      "text/plain": [
       "array([['France', 44.0, 72000.0, 'No'],\n",
       "       ['Spain', 27.0, 48000.0, 'Yes'],\n",
       "       ['Germany', 30.0, 54000.0, 'No'],\n",
       "       ['Spain', 38.0, 61000.0, 'No'],\n",
       "       ['Germany', 40.0, 63777.77777777778, 'Yes'],\n",
       "       ['France', 35.0, 58000.0, 'Yes'],\n",
       "       ['France', 38.77777777777778, 52000.0, 'No'],\n",
       "       ['France', 48.0, 79000.0, 'Yes'],\n",
       "       ['Germany', 50.0, 83000.0, 'No'],\n",
       "       ['France', 37.0, 67000.0, 'Yes']], dtype=object)"
      ]
     },
     "execution_count": 27,
     "metadata": {},
     "output_type": "execute_result"
    }
   ],
   "source": [
    "X"
   ]
  },
  {
   "cell_type": "code",
   "execution_count": 20,
   "metadata": {},
   "outputs": [
    {
     "data": {
      "text/plain": [
       "array([['France', 44.0, 72000.0, 'No'],\n",
       "       ['Spain', 27.0, 48000.0, 'Yes'],\n",
       "       ['Germany', 30.0, 54000.0, 'No'],\n",
       "       ['Spain', 38.0, 61000.0, 'No'],\n",
       "       ['Germany', 40.0, nan, 'Yes'],\n",
       "       ['France', 35.0, 58000.0, 'Yes'],\n",
       "       [nan, nan, 52000.0, 'No'],\n",
       "       ['France', 48.0, 79000.0, 'Yes'],\n",
       "       ['Germany', 50.0, 83000.0, 'No'],\n",
       "       ['France', 37.0, 67000.0, 'Yes']], dtype=object)"
      ]
     },
     "execution_count": 20,
     "metadata": {},
     "output_type": "execute_result"
    }
   ],
   "source": [
    "df.values"
   ]
  },
  {
   "cell_type": "code",
   "execution_count": 28,
   "metadata": {},
   "outputs": [],
   "source": [
    "# convert text -> number\n",
    "\n",
    "from sklearn.preprocessing import LabelEncoder"
   ]
  },
  {
   "cell_type": "code",
   "execution_count": 29,
   "metadata": {},
   "outputs": [],
   "source": [
    "purchased_label_encoder = LabelEncoder()\n",
    "X[:,-1]=purchased_label_encoder.fit_transform(X[:,-1])"
   ]
  },
  {
   "cell_type": "code",
   "execution_count": 30,
   "metadata": {},
   "outputs": [
    {
     "data": {
      "text/plain": [
       "array([['France', 44.0, 72000.0, 0],\n",
       "       ['Spain', 27.0, 48000.0, 1],\n",
       "       ['Germany', 30.0, 54000.0, 0],\n",
       "       ['Spain', 38.0, 61000.0, 0],\n",
       "       ['Germany', 40.0, 63777.77777777778, 1],\n",
       "       ['France', 35.0, 58000.0, 1],\n",
       "       ['France', 38.77777777777778, 52000.0, 0],\n",
       "       ['France', 48.0, 79000.0, 1],\n",
       "       ['Germany', 50.0, 83000.0, 0],\n",
       "       ['France', 37.0, 67000.0, 1]], dtype=object)"
      ]
     },
     "execution_count": 30,
     "metadata": {},
     "output_type": "execute_result"
    }
   ],
   "source": [
    "X"
   ]
  },
  {
   "cell_type": "code",
   "execution_count": 31,
   "metadata": {},
   "outputs": [],
   "source": [
    "from sklearn.preprocessing import OneHotEncoder"
   ]
  },
  {
   "cell_type": "code",
   "execution_count": 55,
   "metadata": {},
   "outputs": [],
   "source": [
    "country_onehot = OneHotEncoder()\n",
    "temp=country_onehot.fit_transform(X[:,0].reshape(-1,1)).toarray()\n",
    "X=np.concatenate((temp, X), axis=1)\n"
   ]
  },
  {
   "cell_type": "code",
   "execution_count": 56,
   "metadata": {},
   "outputs": [
    {
     "data": {
      "text/plain": [
       "array([[1.0, 0.0, 0.0, 44.0, 72000.0, 'No'],\n",
       "       [0.0, 0.0, 1.0, 27.0, 48000.0, 'Yes'],\n",
       "       [0.0, 1.0, 0.0, 30.0, 54000.0, 'No'],\n",
       "       [0.0, 0.0, 1.0, 38.0, 61000.0, 'No'],\n",
       "       [0.0, 1.0, 0.0, 40.0, 63777.77777777778, 'Yes'],\n",
       "       [1.0, 0.0, 0.0, 35.0, 58000.0, 'Yes'],\n",
       "       [1.0, 0.0, 0.0, 38.77777777777778, 52000.0, 'No'],\n",
       "       [1.0, 0.0, 0.0, 48.0, 79000.0, 'Yes'],\n",
       "       [0.0, 1.0, 0.0, 50.0, 83000.0, 'No'],\n",
       "       [1.0, 0.0, 0.0, 37.0, 67000.0, 'Yes']], dtype=object)"
      ]
     },
     "execution_count": 56,
     "metadata": {},
     "output_type": "execute_result"
    }
   ],
   "source": [
    "X=np.delete(X, 3, axis=1)\n",
    "X"
   ]
  },
  {
   "cell_type": "code",
   "execution_count": 57,
   "metadata": {},
   "outputs": [],
   "source": [
    "# chuan hoa mien gia tri\n",
    "from sklearn.preprocessing import StandardScaler, MinMaxScaler"
   ]
  },
  {
   "cell_type": "code",
   "execution_count": 60,
   "metadata": {},
   "outputs": [
    {
     "data": {
      "text/plain": [
       "array([0.7494732544921673, -1.4381784072687536, -0.8912654918285233,\n",
       "       -0.2532004238149215, 1.7709863242942932e-16, -0.5266568815350365,\n",
       "       -1.0735697969752667, 1.387538322505769, 1.7521469327992554,\n",
       "       0.29371249162530866], dtype=object)"
      ]
     },
     "execution_count": 60,
     "metadata": {},
     "output_type": "execute_result"
    }
   ],
   "source": [
    "standard_scaler=StandardScaler()\n",
    "X[:,4]=standard_scaler.fit_transform(X[:,4].reshape(-1,1)).ravel()\n",
    "X[:,4]"
   ]
  },
  {
   "cell_type": "code",
   "execution_count": 59,
   "metadata": {},
   "outputs": [
    {
     "data": {
      "text/plain": [
       "array([0.6857142857142857, 0.0, 0.17142857142857143, 0.3714285714285714,\n",
       "       0.45079365079365086, 0.2857142857142857, 0.11428571428571432,\n",
       "       0.8857142857142857, 0.9999999999999999, 0.5428571428571428],\n",
       "      dtype=object)"
      ]
     },
     "execution_count": 59,
     "metadata": {},
     "output_type": "execute_result"
    }
   ],
   "source": [
    "minmax_scaler=MinMaxScaler()\n",
    "X[:,4]=minmax_scaler.fit_transform(X[:,4].reshape(-1,1)).ravel()\n",
    "X[:,4]"
   ]
  },
  {
   "cell_type": "code",
   "execution_count": 65,
   "metadata": {},
   "outputs": [
    {
     "name": "stdout",
     "output_type": "stream",
     "text": [
      "[[1.0 0.0 0.0 44.0 0.7494732544921673 'No']\n",
      " [0.0 0.0 1.0 27.0 -1.4381784072687536 'Yes']\n",
      " [0.0 1.0 0.0 30.0 -0.8912654918285233 'No']\n",
      " [0.0 0.0 1.0 38.0 -0.2532004238149215 'No']\n",
      " [0.0 1.0 0.0 40.0 1.7709863242942932e-16 'Yes']\n",
      " [1.0 0.0 0.0 35.0 -0.5266568815350365 'Yes']\n",
      " [1.0 0.0 0.0 38.77777777777778 -1.0735697969752667 'No']\n",
      " [1.0 0.0 0.0 48.0 1.387538322505769 'Yes']\n",
      " [0.0 1.0 0.0 50.0 1.7521469327992554 'No']\n",
      " [1.0 0.0 0.0 37.0 0.29371249162530866 'Yes']]\n",
      "[[1.0 0.0 0.0 37.0 0.29371249162530866]\n",
      " [0.0 1.0 0.0 30.0 -0.8912654918285233]\n",
      " [0.0 1.0 0.0 50.0 1.7521469327992554]\n",
      " [1.0 0.0 0.0 38.77777777777778 -1.0735697969752667]\n",
      " [0.0 0.0 1.0 27.0 -1.4381784072687536]\n",
      " [1.0 0.0 0.0 48.0 1.387538322505769]\n",
      " [0.0 0.0 1.0 38.0 -0.2532004238149215]\n",
      " [1.0 0.0 0.0 35.0 -0.5266568815350365]]\n",
      "[[0.0 1.0 0.0 40.0 1.7709863242942932e-16]\n",
      " [1.0 0.0 0.0 44.0 0.7494732544921673]]\n"
     ]
    }
   ],
   "source": [
    "# chia du lieu train/test\n",
    "from sklearn.model_selection import train_test_split\n",
    "features=X[:, 0:-1]\n",
    "labels=X[:,-1]\n",
    "X_train,X_test,y_train,y_test=train_test_split(features, labels, test_size=0.2)\n",
    "print(X)\n",
    "print(X_train)\n",
    "print(X_test)"
   ]
  },
  {
   "cell_type": "code",
   "execution_count": null,
   "metadata": {},
   "outputs": [],
   "source": []
  }
 ],
 "metadata": {
  "kernelspec": {
   "display_name": "Python 3",
   "language": "python",
   "name": "python3"
  },
  "language_info": {
   "codemirror_mode": {
    "name": "ipython",
    "version": 3
   },
   "file_extension": ".py",
   "mimetype": "text/x-python",
   "name": "python",
   "nbconvert_exporter": "python",
   "pygments_lexer": "ipython3",
   "version": "3.7.6"
  }
 },
 "nbformat": 4,
 "nbformat_minor": 4
}
